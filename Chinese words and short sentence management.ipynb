{
 "cells": [
  {
   "cell_type": "markdown",
   "metadata": {},
   "source": [
    "# 中国語学習データベースをNeo4j(グラフデータベース)で構築してみる"
   ]
  },
  {
   "cell_type": "markdown",
   "metadata": {},
   "source": [
    "以前、中国語学習を熱心にやっていたときに、単語や単文のデータベースを作っていたが、あまり長続きしなかった。理由は、正規化の部分での時間的コストが掛かること。項目を増やしたり、テーブルを追加したりなどなどの作業に追われて、あまり効率的ではなかったのが原因ではないかと考えている。そこで、グラフデータベースを使って面白いことが出来ないかを試してみることにした。\n",
    "\n",
    "やりたいことを列挙すると、こんな感じ。\n",
    "- 短文を登録すると、こんな構文を使っているねとか、この単語を使っているねというのが、ある程度自動でリンクされる。\n",
    "- 特定に構文とか言い回しとかに沿った単文を例文として一覧で列挙する。\n",
    "- 読み方などが分からない単語を登録する。\n",
    "などなど。"
   ]
  },
  {
   "cell_type": "markdown",
   "metadata": {},
   "source": [
    "## 構造を考えてみる\n",
    "\n",
    "Neo4jには、各ノードをLabelで性格付けできるので、こんな感じのモノを作ってみるイメージ。\n",
    "- 単語(Word)\n",
    "- カテゴリ(Category)品詞とか\n",
    "- 構文(Structure) 把構文みたいな\n",
    "- 単文(Sentence)"
   ]
  },
  {
   "cell_type": "markdown",
   "metadata": {},
   "source": [
    "## テキスト/CSVファイルからの取り込み"
   ]
  },
  {
   "cell_type": "markdown",
   "metadata": {},
   "source": [
    "まずは単語の入ったcsvファイルを読み込む。項目数が多いので、DictReaderで辞書として取り込み、それをリスト化する"
   ]
  },
  {
   "cell_type": "code",
   "execution_count": 10,
   "metadata": {
    "collapsed": false
   },
   "outputs": [
    {
     "name": "stdout",
     "output_type": "stream",
     "text": [
      "Wall time: 0 ns\n",
      "5809 words stored in word_list\n"
     ]
    }
   ],
   "source": [
    "import csv\n",
    "word_list = []\n",
    "with open('chinesewords_20160219.csv', encoding='utf-8') as csvfile:\n",
    "    reader = csv.DictReader(csvfile)\n",
    "    for row in reader:\n",
    "        word_list.append(row)\n",
    "print('{} words stored in word_list'.format(len(word_list)))"
   ]
  },
  {
   "cell_type": "markdown",
   "metadata": {},
   "source": [
    "同じく単文の入ったtxtファイルを読み込む。こちらは項目数が今のところ1つだけなので、csvとして読む必要はない。ただし、行末の改行(\\n)を消してやる必要あり。"
   ]
  },
  {
   "cell_type": "code",
   "execution_count": 18,
   "metadata": {
    "collapsed": false
   },
   "outputs": [
    {
     "name": "stdout",
     "output_type": "stream",
     "text": [
      "569 sentences stored in sentenc_list\n"
     ]
    }
   ],
   "source": [
    "sentence_list = []\n",
    "with open('chinese_sentences20160218.txt', encoding='utf-8') as textfile:\n",
    "    sentence_list = [row.rstrip() for row in textfile]\n",
    "print('{} sentences stored in sentenc_list'.format(len(sentence_list)))"
   ]
  },
  {
   "cell_type": "markdown",
   "metadata": {},
   "source": [
    "改行が消えているかの確認。"
   ]
  },
  {
   "cell_type": "code",
   "execution_count": 4,
   "metadata": {
    "collapsed": false
   },
   "outputs": [
    {
     "data": {
      "text/plain": [
       "'那么大的鱼，根本钓不到。'"
      ]
     },
     "execution_count": 4,
     "metadata": {},
     "output_type": "execute_result"
    }
   ],
   "source": [
    "sentence_list[-1]"
   ]
  },
  {
   "cell_type": "markdown",
   "metadata": {},
   "source": [
    "## Neo4jとの接続"
   ]
  },
  {
   "cell_type": "markdown",
   "metadata": {},
   "source": [
    "Neo4jとつないでみよう。あらかじめpy2neoをインストールしておく。\n",
    "```\n",
    "$pip install py2neo\n",
    "```"
   ]
  },
  {
   "cell_type": "code",
   "execution_count": 3,
   "metadata": {
    "collapsed": false
   },
   "outputs": [
    {
     "name": "stdout",
     "output_type": "stream",
     "text": [
      "Wall time: 0 ns\n"
     ]
    }
   ],
   "source": [
    "%time\n",
    "from py2neo import Graph, authenticate\n",
    "from py2neo import Node, Relationship\n",
    "authenticate('localhost:7474', 'neo4j', 'admin')\n",
    "graph = Graph()    #http://localhost:7474"
   ]
  },
  {
   "cell_type": "markdown",
   "metadata": {},
   "source": [
    "(リカバリ用)すべてのノードと関係を削除する場合は、これを使う。"
   ]
  },
  {
   "cell_type": "code",
   "execution_count": 25,
   "metadata": {
    "collapsed": true
   },
   "outputs": [],
   "source": [
    "graph.delete_all()"
   ]
  },
  {
   "cell_type": "markdown",
   "metadata": {},
   "source": [
    "CategoryとSentenceについては、単一の属性でユニークになるのでuniqueness_constraintを作っておく。"
   ]
  },
  {
   "cell_type": "code",
   "execution_count": 10,
   "metadata": {
    "collapsed": false
   },
   "outputs": [],
   "source": [
    "graph.schema.create_uniqueness_constraint(\"Category\", \"category\")\n",
    "graph.schema.create_uniqueness_constraint(\"Sentence\", \"sentence\")"
   ]
  },
  {
   "cell_type": "markdown",
   "metadata": {},
   "source": [
    "Wordについては、多音字を想定してkeywordとpinyinの組み合わせでユニークとする。複数項目の指定は出来ないので、エントリ追加時のロジックで対応する。"
   ]
  },
  {
   "cell_type": "markdown",
   "metadata": {},
   "source": [
    "まずは短文登録を行う。重複ケースを考えてmerge_oneを使う。uniqueness_constraintとセットで使うとドキュメントに書いてある。"
   ]
  },
  {
   "cell_type": "code",
   "execution_count": 11,
   "metadata": {
    "collapsed": false
   },
   "outputs": [],
   "source": [
    "for sentence in sentence_list:\n",
    "    graph.merge_one(\"Sentence\", \"sentence\", sentence)"
   ]
  },
  {
   "cell_type": "markdown",
   "metadata": {},
   "source": [
    "続いて単語の登録。ロジックを工夫しながらやる必要あり。"
   ]
  },
  {
   "cell_type": "code",
   "execution_count": 11,
   "metadata": {
    "collapsed": false
   },
   "outputs": [
    {
     "name": "stdout",
     "output_type": "stream",
     "text": [
      "Wall time: 0 ns\n",
      "all count:5809, created words:5806\n"
     ]
    }
   ],
   "source": [
    "from datetime import datetime\n",
    "start_time = datetime.now()\n",
    "counter_a = 0\n",
    "counter_c = 0\n",
    "for word in word_list:\n",
    "    counter_a += 1\n",
    "    ws = list(graph.find(\"Word\", \"keyword\", word['word']))\n",
    "    found = False\n",
    "    for w in ws:\n",
    "        if w[\"pinyin\"] == word['pinyin']:\n",
    "            found = True\n",
    "            break\n",
    "    if found == True:\n",
    "        new_word = w\n",
    "    else:\n",
    "        counter_c += 1\n",
    "        new_word = Node(\"Word\", keyword=word['word'], pinyin=word['pinyin'], pinyinf=word['pinyinf'], meaning=word['meaning'])\n",
    "        graph.create(new_word)\n",
    "    found = False\n",
    "    if word.get('category'):\n",
    "        cs = list(graph.find(\"Category\", \"category\", word['category']))\n",
    "        if len(cs) == 0:\n",
    "            new_category = Node(\"Category\", category=word['category'])\n",
    "            graph.create(new_category)\n",
    "        else:\n",
    "            new_category = cs[0]\n",
    "        word_is_categorized_as_category = Relationship(new_word, 'is_categorized_as', new_category)\n",
    "        graph.create(word_is_categorized_as_category)\n",
    "    \n",
    "print(\"all count:{0}, created words:{1}\".format(counter_a, counter_c))\n",
    "endtime = datetime.now()\n",
    "print (\"It took {0} seconds to process\".format{end_time - start_time})"
   ]
  },
  {
   "cell_type": "markdown",
   "metadata": {
    "collapsed": true
   },
   "source": [
    "少し時間が掛かりすぎか？"
   ]
  },
  {
   "cell_type": "markdown",
   "metadata": {},
   "source": [
    "## データベース内のデータのハンドリング(検索)"
   ]
  },
  {
   "cell_type": "markdown",
   "metadata": {},
   "source": [
    "既存のデータの検索について、方法を考える。まずは、cypherを直接実行するexecuteを使うパターン。"
   ]
  },
  {
   "cell_type": "code",
   "execution_count": 29,
   "metadata": {
    "collapsed": false
   },
   "outputs": [
    {
     "name": "stdout",
     "output_type": "stream",
     "text": [
      "   | w                                                                       \n",
      "---+--------------------------------------------------------------------------\n",
      " 1 | (n2:Word {keyword:\"熬夜\",meaning:\"徹夜する\",pinyin:\"ao2 ye4\",pinyinf:\"áo yè\"})\n",
      "\n"
     ]
    }
   ],
   "source": [
    "w = graph.cypher.execute(\"MATCH (w:Word) WHERE w.keyword='熬夜' RETURN w\") \n",
    "print(w)"
   ]
  },
  {
   "cell_type": "code",
   "execution_count": 30,
   "metadata": {
    "collapsed": false
   },
   "outputs": [
    {
     "data": {
      "text/plain": [
       "py2neo.cypher.core.RecordList"
      ]
     },
     "execution_count": 30,
     "metadata": {},
     "output_type": "execute_result"
    }
   ],
   "source": [
    "type(w)"
   ]
  },
  {
   "cell_type": "markdown",
   "metadata": {},
   "source": [
    "RecordListからNordに変更する場合は、oneを使うことができる。ただし1件以上結果があった場合のみ。"
   ]
  },
  {
   "cell_type": "code",
   "execution_count": 35,
   "metadata": {
    "collapsed": false
   },
   "outputs": [
    {
     "data": {
      "text/plain": [
       "'熬夜'"
      ]
     },
     "execution_count": 35,
     "metadata": {},
     "output_type": "execute_result"
    }
   ],
   "source": [
    "w.one['keyword']"
   ]
  },
  {
   "cell_type": "markdown",
   "metadata": {},
   "source": [
    "もう少し保守的にいくなら、1件以上のノードが見つかったと仮定して、これをやってからOrder=1ならoneを呼ぶという感じだろうか。"
   ]
  },
  {
   "cell_type": "code",
   "execution_count": 38,
   "metadata": {
    "collapsed": false
   },
   "outputs": [
    {
     "data": {
      "text/plain": [
       "1"
      ]
     },
     "execution_count": 38,
     "metadata": {},
     "output_type": "execute_result"
    }
   ],
   "source": [
    "w.to_subgraph().order"
   ]
  },
  {
   "cell_type": "code",
   "execution_count": 21,
   "metadata": {
    "collapsed": false
   },
   "outputs": [
    {
     "data": {
      "text/plain": [
       "py2neo.cypher.core.Record"
      ]
     },
     "execution_count": 21,
     "metadata": {},
     "output_type": "execute_result"
    }
   ],
   "source": [
    "type(w[0])"
   ]
  },
  {
   "cell_type": "markdown",
   "metadata": {
    "collapsed": true
   },
   "source": [
    "速さは問題ないが、取り回しがよく分からない。続いては、findを使う方法。"
   ]
  },
  {
   "cell_type": "code",
   "execution_count": 25,
   "metadata": {
    "collapsed": true
   },
   "outputs": [],
   "source": [
    "w = list(graph.find(\"Word\", \"keyword\", \"熬夜\"))"
   ]
  },
  {
   "cell_type": "code",
   "execution_count": 26,
   "metadata": {
    "collapsed": false
   },
   "outputs": [
    {
     "data": {
      "text/plain": [
       "[<Node graph='http://localhost:7474/db/data/' ref='node/2' labels={'Word'} properties={'meaning': '徹夜する', 'pinyinf': 'áo yè', 'pinyin': 'ao2 ye4', 'keyword': '熬夜'}>]"
      ]
     },
     "execution_count": 26,
     "metadata": {},
     "output_type": "execute_result"
    }
   ],
   "source": [
    "w"
   ]
  },
  {
   "cell_type": "code",
   "execution_count": 27,
   "metadata": {
    "collapsed": false
   },
   "outputs": [
    {
     "data": {
      "text/plain": [
       "'熬夜'"
      ]
     },
     "execution_count": 27,
     "metadata": {},
     "output_type": "execute_result"
    }
   ],
   "source": [
    "w[0][\"keyword\"]"
   ]
  },
  {
   "cell_type": "markdown",
   "metadata": {},
   "source": [
    "これの方が取り回しは簡単な気がする。とりあえず汎用的に使えるように関数を書いてみる。"
   ]
  },
  {
   "cell_type": "code",
   "execution_count": 5,
   "metadata": {
    "collapsed": true
   },
   "outputs": [],
   "source": [
    "def search_word(keyword):\n",
    "    ws = list(graph.find(\"Word\", \"keyword\", keyword))\n",
    "    if len(ws) == 0:\n",
    "        print(\"Keyword {0} not found in database\".format(keyword))\n",
    "        return None\n",
    "    else:\n",
    "        print(\"Found {0} entries for keyword {1} in database\".format(len(ws), keyword))\n",
    "        return ws    "
   ]
  },
  {
   "cell_type": "code",
   "execution_count": 6,
   "metadata": {
    "collapsed": false
   },
   "outputs": [
    {
     "name": "stdout",
     "output_type": "stream",
     "text": [
      "Wall time: 0 ns\n",
      "Keyword 菩萨 not found in database\n",
      "None\n"
     ]
    }
   ],
   "source": [
    "%time\n",
    "word = search_word(\"菩萨\")\n",
    "print(word)"
   ]
  },
  {
   "cell_type": "markdown",
   "metadata": {},
   "source": [
    "続いてピンイン検索も。pinyinfでの検索も考えた方が良いかもしれないが、仕組みは同じで簡単に作れるので、とりあえずpinyinだけで作る。"
   ]
  },
  {
   "cell_type": "code",
   "execution_count": 7,
   "metadata": {
    "collapsed": false
   },
   "outputs": [],
   "source": [
    "def search_pinyin(pinyin):\n",
    "    ws = list(graph.find(\"Word\", \"pinyin\", pinyin))\n",
    "    if len(ws) == 0:\n",
    "        print(\"No keywords found to pronounce like {0}\".format(pinyin))\n",
    "        return None\n",
    "    else:\n",
    "        print(\"Found {0} entries to pronounce like {1}\".format(len(ws), pinyin))\n",
    "        return ws"
   ]
  },
  {
   "cell_type": "code",
   "execution_count": 20,
   "metadata": {
    "collapsed": false
   },
   "outputs": [
    {
     "name": "stdout",
     "output_type": "stream",
     "text": [
      "Wall time: 0 ns\n",
      "Found 5 entries to pronounce like cheng2\n",
      "[<Node graph='http://localhost:7474/db/data/' ref='node/1532' labels={'Word'} properties={'meaning': '盛る', 'pinyinf': 'chéng', 'pinyin': 'cheng2', 'keyword': '盛'}>, <Node graph='http://localhost:7474/db/data/' ref='node/1533' labels={'Word'} properties={'meaning': '', 'pinyinf': 'chéng', 'pinyin': 'cheng2', 'keyword': '橙'}>, <Node graph='http://localhost:7474/db/data/' ref='node/1534' labels={'Word'} properties={'meaning': '', 'pinyinf': 'chéng', 'pinyin': 'cheng2', 'keyword': '乘'}>, <Node graph='http://localhost:7474/db/data/' ref='node/5631' labels={'Word'} properties={'meaning': '', 'pinyinf': 'chéng', 'pinyin': 'cheng2', 'keyword': '城'}>, <Node graph='http://localhost:7474/db/data/' ref='node/5736' labels={'Word'} properties={'meaning': '', 'pinyinf': 'chéng', 'pinyin': 'cheng2', 'keyword': '成'}>]\n"
     ]
    }
   ],
   "source": [
    "%time\n",
    "words = search_pinyin('cheng2')\n",
    "print(words)"
   ]
  },
  {
   "cell_type": "markdown",
   "metadata": {},
   "source": [
    "ひとまず大丈夫そう。"
   ]
  },
  {
   "cell_type": "code",
   "execution_count": 16,
   "metadata": {
    "collapsed": false
   },
   "outputs": [
    {
     "data": {
      "text/plain": [
       "5809"
      ]
     },
     "execution_count": 16,
     "metadata": {},
     "output_type": "execute_result"
    }
   ],
   "source": [
    "len(word_list)"
   ]
  },
  {
   "cell_type": "code",
   "execution_count": 19,
   "metadata": {
    "collapsed": false
   },
   "outputs": [
    {
     "data": {
      "text/plain": [
       "569"
      ]
     },
     "execution_count": 19,
     "metadata": {},
     "output_type": "execute_result"
    }
   ],
   "source": [
    "len(sentence_list)"
   ]
  },
  {
   "cell_type": "markdown",
   "metadata": {
    "collapsed": true
   },
   "source": [
    "Relationshipを使った検索も試しておく。"
   ]
  },
  {
   "cell_type": "code",
   "execution_count": 44,
   "metadata": {
    "collapsed": false
   },
   "outputs": [],
   "source": [
    "wl = graph.cypher.execute(\"MATCH (w:Word)-[r:is_categorized_as]->(c:Category) WHERE c.category='成語' RETURN w\")"
   ]
  },
  {
   "cell_type": "code",
   "execution_count": 47,
   "metadata": {
    "collapsed": false
   },
   "outputs": [
    {
     "data": {
      "text/plain": [
       "217"
      ]
     },
     "execution_count": 47,
     "metadata": {},
     "output_type": "execute_result"
    }
   ],
   "source": [
    "wl.to_subgraph().order"
   ]
  },
  {
   "cell_type": "code",
   "execution_count": 48,
   "metadata": {
    "collapsed": false
   },
   "outputs": [
    {
     "data": {
      "text/plain": [
       "<Subgraph order=217 size=0>"
      ]
     },
     "execution_count": 48,
     "metadata": {},
     "output_type": "execute_result"
    }
   ],
   "source": [
    "wl.to_subgraph()"
   ]
  },
  {
   "cell_type": "code",
   "execution_count": 54,
   "metadata": {
    "collapsed": false
   },
   "outputs": [
    {
     "name": "stdout",
     "output_type": "stream",
     "text": [
      "<class 'py2neo.cypher.core.Record'>  w                                                                                                      \n",
      "---------------------------------------------------------------------------------------------------------\n",
      " (n5558:Word {keyword:\"总而言之\",meaning:\"要するに、つまり\",pinyin:\"zong3 er2 yan2 zhi1\",pinyinf:\"zǒng ér yán zhī\"})\n",
      "\n",
      "<class 'py2neo.cypher.core.Record'>  w                                                                                                          \n",
      "-------------------------------------------------------------------------------------------------------------\n",
      " (n5544:Word {keyword:\"自力更生\",meaning:\"人に頼らず自力で行う\",pinyin:\"zi4 li4 geng4 sheng1\",pinyinf:\"zì lì gèng shēng\"})\n",
      "\n",
      "<class 'py2neo.cypher.core.Record'>  w                                                                                                            \n",
      "---------------------------------------------------------------------------------------------------------------\n",
      " (n5433:Word {keyword:\"众所周知\",meaning:\"広く知られている\",pinyin:\"zhong4 suo3 zhou1 zhi1\",pinyinf:\"zhòng suǒ zhōu zhī\"})\n",
      "\n",
      "<class 'py2neo.cypher.core.Record'>  w                                                                                                          \n",
      "-------------------------------------------------------------------------------------------------------------\n",
      " (n5350:Word {keyword:\"知足常乐\",meaning:\"利益や地位に満足している\",pinyin:\"zhi1 zu2 chang2 le4\",pinyinf:\"zhī zú cháng lè\"})\n",
      "\n",
      "<class 'py2neo.cypher.core.Record'>  w                                                                                                          \n",
      "-------------------------------------------------------------------------------------------------------------\n",
      " (n5301:Word {keyword:\"争先恐后\",meaning:\"先を争う\",pinyin:\"zheng1 xian1 kong3 hou4\",pinyinf:\"zhēng xiān kǒng hòu\"})\n",
      "\n",
      "<class 'py2neo.cypher.core.Record'>  w                                                                                                            \n",
      "---------------------------------------------------------------------------------------------------------------\n",
      " (n5257:Word {keyword:\"朝气蓬勃\",meaning:\"若々しい、はつらつとしている\",pinyin:\"zhao1 qi4 peng2 bo2\",pinyinf:\"zhāo qì péng bó\"})\n",
      "\n",
      "<class 'py2neo.cypher.core.Record'>  w                                                                                                             \n",
      "----------------------------------------------------------------------------------------------------------------\n",
      " (n5227:Word {keyword:\"斩钉截铁\",meaning:\"言動がはっきりしている\",pinyin:\"zhan3 ding1 jie2 tie3\",pinyinf:\"zhǎn dīng jié tiě\"})\n",
      "\n",
      "<class 'py2neo.cypher.core.Record'>  w                                                                                                    \n",
      "-------------------------------------------------------------------------------------------------------\n",
      " (n5184:Word {keyword:\"再接再厉\",meaning:\"引き続き努力する\",pinyin:\"zai4 jie1 zai4 li4\",pinyinf:\"zài jiē zài lì\"})\n",
      "\n",
      "<class 'py2neo.cypher.core.Record'>  w                                                                                                 \n",
      "----------------------------------------------------------------------------------------------------\n",
      " (n5108:Word {keyword:\"与日俱增\",meaning:\"日増しに高まる\",pinyin:\"yu3 ri4 ju4 zeng1\",pinyinf:\"yǔ rì jù zēng\"})\n",
      "\n",
      "<class 'py2neo.cypher.core.Record'>  w                                                                                                          \n",
      "-------------------------------------------------------------------------------------------------------------\n",
      " (n5093:Word {keyword:\"有条不紊\",meaning:\"整然として秩序立っている\",pinyin:\"you3 tiao2 bu4 wen3\",pinyinf:\"yǒu tiáo bù wěn\"})\n",
      "\n",
      "<class 'py2neo.cypher.core.Record'>  w                                                                                                           \n",
      "--------------------------------------------------------------------------------------------------------------\n",
      " (n5070:Word {keyword:\"优胜劣汰\",meaning:\"適者生存、弱肉強食\",pinyin:\"you1 sheng4 lie4 tai4\",pinyinf:\"yōu shèng liè tài\"})\n",
      "\n",
      "<class 'py2neo.cypher.core.Record'>  w                                                                                                       \n",
      "----------------------------------------------------------------------------------------------------------\n",
      " (n4994:Word {keyword:\"一丝不苟\",meaning:\"少しも手を抜かない、スキがない\",pinyin:\"yi4 si1 bu4 gou3\",pinyinf:\"yì sī bù gǒu\"})\n",
      "\n",
      "<class 'py2neo.cypher.core.Record'>  w                                                                                                      \n",
      "---------------------------------------------------------------------------------------------------------\n",
      " (n4993:Word {keyword:\"一如既往\",meaning:\"まったく以前と変わらない\",pinyin:\"yi4 ru2 ji4 wang3\",pinyinf:\"yì rú jì wǎng\"})\n",
      "\n",
      "<class 'py2neo.cypher.core.Record'>  w                                                                                                \n",
      "---------------------------------------------------------------------------------------------------\n",
      " (n4991:Word {keyword:\"一举两得\",meaning:\"一挙両得\",pinyin:\"yi1 ju3 liang3 de2\",pinyinf:\"yī jǔ liǎng dé\"})\n",
      "\n",
      "<class 'py2neo.cypher.core.Record'>  w                                                                                                      \n",
      "---------------------------------------------------------------------------------------------------------\n",
      " (n4990:Word {keyword:\"一帆风顺\",meaning:\"道中ご無事で\",pinyin:\"yi4 fan1 feng1 shun4\",pinyinf:\"yì fān fēng shùn\"})\n",
      "\n",
      "<class 'py2neo.cypher.core.Record'>  w                                                                                                \n",
      "---------------------------------------------------------------------------------------------------\n",
      " (n4957:Word {keyword:\"一目了然\",meaning:\"一目瞭然\",pinyin:\"yi1 mu4 liao3 ran2\",pinyinf:\"yī mù liǎo rán\"})\n",
      "\n",
      "<class 'py2neo.cypher.core.Record'>  w                                                                                                \n",
      "---------------------------------------------------------------------------------------------------\n",
      " (n4956:Word {keyword:\"一路平安\",meaning:\"道中ご無事で\",pinyin:\"yi1 lu4 ping2 an1\",pinyinf:\"yī lù píng ān\"})\n",
      "\n",
      "<class 'py2neo.cypher.core.Record'>  w                                                                                                       \n",
      "----------------------------------------------------------------------------------------------------------\n",
      " (n4918:Word {keyword:\"咬牙切齿\",meaning:\"歯ぎしりする、残念がる\",pinyin:\"yao3 ya2 qie4 chi3\",pinyinf:\"yǎo yá qiè chǐ\"})\n",
      "\n",
      "<class 'py2neo.cypher.core.Record'>  w                                                                                                      \n",
      "---------------------------------------------------------------------------------------------------------\n",
      " (n4843:Word {keyword:\"循序渐进\",meaning:\"順を追って進める\",pinyin:\"xun2 xu4 jian4 jin4\",pinyinf:\"xún xù jiàn jìn\"})\n",
      "\n",
      "<class 'py2neo.cypher.core.Record'>  w                                                                                                                      \n",
      "-------------------------------------------------------------------------------------------------------------------------\n",
      " (n4838:Word {keyword:\"雪上加霜\",meaning:\"弱り目に祟り目、災難が重なる\",pinyin:\"xue3 shang4 jia1 shuang1\",pinyinf:\"xuě shàng jiā shuāng\"})\n",
      "\n",
      "<class 'py2neo.cypher.core.Record'>  w                                                                                                  \n",
      "-----------------------------------------------------------------------------------------------------\n",
      " (n4821:Word {keyword:\"悬崖峭壁\",meaning:\"断崖絶壁\",pinyin:\"xuan2 ya2 qiao4 bi4\",pinyinf:\"xuán yá qiào bì\"})\n",
      "\n",
      "<class 'py2neo.cypher.core.Record'>  w                                                                                                 \n",
      "----------------------------------------------------------------------------------------------------\n",
      " (n4784:Word {keyword:\"兴致勃勃\",meaning:\"興味津々\",pinyin:\"xing4 zhi4 bo2 bo2\",pinyinf:\"xìng zhì bó bó \"})\n",
      "\n",
      "<class 'py2neo.cypher.core.Record'>  w                                                                                                       \n",
      "----------------------------------------------------------------------------------------------------------\n",
      " (n4782:Word {keyword:\"兴高采烈\",meaning:\"非常に興に乗る\",pinyin:\"xing4 gao1 cai3 lie4\",pinyinf:\"xìng gāo cǎi liè\"})\n",
      "\n",
      "<class 'py2neo.cypher.core.Record'>  w                                                                                                           \n",
      "--------------------------------------------------------------------------------------------------------------\n",
      " (n4742:Word {keyword:\"欣欣向荣\",meaning:\"勢い良く伸びる\",pinyin:\"xin1 xin1 xiang4 rong2\",pinyinf:\"xīn xīn xiàng róng\"})\n",
      "\n",
      "<class 'py2neo.cypher.core.Record'>  w                                                                                                    \n",
      "-------------------------------------------------------------------------------------------------------\n",
      " (n4725:Word {keyword:\"新陈代谢\",meaning:\"新陳代謝\",pinyin:\"xin1 chen2 dai4 xie4\",pinyinf:\"xīn chén dài xiè\"})\n",
      "\n",
      "<class 'py2neo.cypher.core.Record'>  w                                                                                                       \n",
      "----------------------------------------------------------------------------------------------------------\n",
      " (n4701:Word {keyword:\"小心翼翼\",meaning:\"注意深い、慎重である\",pinyin:\"xiao3 xin1 yi4 yi4\",pinyinf:\"xiǎo xīn yì yì \"})\n",
      "\n",
      "<class 'py2neo.cypher.core.Record'>  w                                                                                                               \n",
      "------------------------------------------------------------------------------------------------------------------\n",
      " (n4660:Word {keyword:\"相辅相成\",meaning:\"互いに補い合う\",pinyin:\"xiang1 fu3 xiang1 cheng2\",pinyinf:\"xiāng fǔ xiāng chéng\"})\n",
      "\n",
      "<class 'py2neo.cypher.core.Record'>  w                                                                                                        \n",
      "-----------------------------------------------------------------------------------------------------------\n",
      " (n4603:Word {keyword:\"喜闻乐见\",meaning:\"喜んで見たり聞いたりする\",pinyin:\"xi3 wen2 le4 jian4\",pinyinf:\"xǐ wén lè jiàn\"})\n",
      "\n",
      "<class 'py2neo.cypher.core.Record'>  w                                                                                                        \n",
      "-----------------------------------------------------------------------------------------------------------\n",
      " (n4582:Word {keyword:\"物美价廉\",meaning:\"値段が安くて質が良い\",pinyin:\"wu4 mei3 jia4 lian2\",pinyinf:\"wù měi jià lián\"})\n",
      "\n",
      "<class 'py2neo.cypher.core.Record'>  w                                                                                                \n",
      "---------------------------------------------------------------------------------------------------\n",
      " (n4565:Word {keyword:\"无忧无虑\",meaning:\"なんの心配もない\",pinyin:\"wu2 you1 wu2 lv4\",pinyinf:\"wú yōu wú lǜ\"})\n",
      "\n",
      "<class 'py2neo.cypher.core.Record'>  w                                                                                                            \n",
      "---------------------------------------------------------------------------------------------------------------\n",
      " (n4564:Word {keyword:\"无微不至\",meaning:\"細やかな気遣いがある、行き届いている\",pinyin:\"wu2 wei1 bu2 zhi4\",pinyinf:\"wú wēi bú zhì\"})\n",
      "\n",
      "<class 'py2neo.cypher.core.Record'>  w                                                                                                      \n",
      "---------------------------------------------------------------------------------------------------------\n",
      " (n4562:Word {keyword:\"无穷无尽\",meaning:\"尽きることのない\",pinyin:\"wu2 qiong2 wu2 jin4\",pinyinf:\"wú qióng wú jìn\"})\n",
      "\n",
      "<class 'py2neo.cypher.core.Record'>  w                                                                                                 \n",
      "----------------------------------------------------------------------------------------------------\n",
      " (n4558:Word {keyword:\"无理取闹\",meaning:\"わざと騒ぎを起こす\",pinyin:\"wu2 li3 qu3 nao4\",pinyinf:\"wú lǐ qǔ nào\"})\n",
      "\n",
      "<class 'py2neo.cypher.core.Record'>  w                                                                                                 \n",
      "----------------------------------------------------------------------------------------------------\n",
      " (n4556:Word {keyword:\"无可奈何\",meaning:\"いかんともしがたい\",pinyin:\"wu2 ke3 nai4 he2\",pinyinf:\"wú kě nài hé\"})\n",
      "\n",
      "<class 'py2neo.cypher.core.Record'>  w                                                                                                  \n",
      "-----------------------------------------------------------------------------------------------------\n",
      " (n4555:Word {keyword:\"无可奉告\",meaning:\"ノーコメント\",pinyin:\"wu2 ke3 feng4 gao4\",pinyinf:\"wú kě fèng gào\"})\n",
      "\n",
      "<class 'py2neo.cypher.core.Record'>  w                                                                                                         \n",
      "------------------------------------------------------------------------------------------------------------\n",
      " (n4554:Word {keyword:\"无精打采\",meaning:\"元気がない、しょんぼりする\",pinyin:\"wu2 jing1 da3 cai3\",pinyinf:\"wú jīng dǎ cǎi\"})\n",
      "\n",
      "<class 'py2neo.cypher.core.Record'>  w                                                                                                          \n",
      "-------------------------------------------------------------------------------------------------------------\n",
      " (n4552:Word {keyword:\"无动于衷\",meaning:\"無感動・無関心である\",pinyin:\"wu2 dong4 yu2 zhong1\",pinyinf:\"wú dòng yú zhōng\"})\n",
      "\n",
      "<class 'py2neo.cypher.core.Record'>  w                                                                                                 \n",
      "----------------------------------------------------------------------------------------------------\n",
      " (n4476:Word {keyword:\"微不足道\",meaning:\"取るに足らない\",pinyin:\"wei1 bu4 zu2 dao4\",pinyinf:\"wēi bù zú dào\"})\n",
      "\n",
      "<class 'py2neo.cypher.core.Record'>  w                                                                                                                           \n",
      "------------------------------------------------------------------------------------------------------------------------------\n",
      " (n4379:Word {keyword:\"统筹兼顾\",meaning:\"全体的な計画の中で、個別の利益も併せて考慮すること\",pinyin:\"tong3 chou2 jian1 gu4\",pinyinf:\"tǒng chóu jiān gù\"})\n",
      "\n",
      "<class 'py2neo.cypher.core.Record'>  w                                                                                                        \n",
      "-----------------------------------------------------------------------------------------------------------\n",
      " (n4288:Word {keyword:\"讨价还价\",meaning:\"値段交渉をする\",pinyin:\"tao3 jia4 huan2 jia4\",pinyinf:\"tǎo jià huán jià \"})\n",
      "\n",
      "<class 'py2neo.cypher.core.Record'>  w                                                                                                        \n",
      "-----------------------------------------------------------------------------------------------------------\n",
      " (n4281:Word {keyword:\"滔滔不绝\",meaning:\"よどみなく話す、弁が立つ\",pinyin:\"tao1 tao1 bu4 jue2\",pinyinf:\"tāo tāo bù jué\"})\n",
      "\n",
      "<class 'py2neo.cypher.core.Record'>  w                                                                                                 \n",
      "----------------------------------------------------------------------------------------------------\n",
      " (n4205:Word {keyword:\"肆无忌惮\",meaning:\"やりたい放題をする\",pinyin:\"si4 wu2 ji4 dan4\",pinyinf:\"sì wú jì dàn\"})\n",
      "\n",
      "<class 'py2neo.cypher.core.Record'>  w                                                                                                            \n",
      "---------------------------------------------------------------------------------------------------------------\n",
      " (n3959:Word {keyword:\"深情厚谊\",meaning:\"深い感情と友情があること\",pinyin:\"shen1 qing2 hou4 yi4\",pinyinf:\"shēn qíng hòu yì\"})\n",
      "\n",
      "<class 'py2neo.cypher.core.Record'>  w                                                                                              \n",
      "-------------------------------------------------------------------------------------------------\n",
      " (n3864:Word {keyword:\"日新月异\",meaning:\"日進月歩\",pinyin:\"ri4 xin1 yue4 yi4\",pinyinf:\"rì xīn yuè yì\"})\n",
      "\n",
      "<class 'py2neo.cypher.core.Record'>  w                                                                                                            \n",
      "---------------------------------------------------------------------------------------------------------------\n",
      " (n3820:Word {keyword:\"热泪盈眶\",meaning:\"熱い涙が目にあふれる\",pinyin:\"re4 lei4 ying2 kuang4\",pinyinf:\"rè lèi yíng kuàng\"})\n",
      "\n",
      "<class 'py2neo.cypher.core.Record'>  w                                                                                                 \n",
      "----------------------------------------------------------------------------------------------------\n",
      " (n3783:Word {keyword:\"全力以赴\",meaning:\"全力で対処する\",pinyin:\"quan2 li4 yi3 fu4\",pinyinf:\"quán lì yǐ fù\"})\n",
      "\n",
      "<class 'py2neo.cypher.core.Record'>  w                                                                                                \n",
      "---------------------------------------------------------------------------------------------------\n",
      " (n3730:Word {keyword:\"轻而易举\",meaning:\"容易にできる\",pinyin:\"qing1 er2 yi4 ju3\",pinyinf:\"qīng ér yì jǔ\"})\n",
      "\n",
      "<class 'py2neo.cypher.core.Record'>  w                                                                                                   \n",
      "------------------------------------------------------------------------------------------------------\n",
      " (n3713:Word {keyword:\"锲而不舍\",meaning:\"根気よく物事を行う\",pinyin:\"qie4 er2 bu4 she3\",pinyinf:\"qiè ér bù shě\"})\n",
      "\n",
      "<class 'py2neo.cypher.core.Record'>  w                                                                                                           \n",
      "--------------------------------------------------------------------------------------------------------------\n",
      " (n3693:Word {keyword:\"潜移默化\",meaning:\"知らず知らずのうちに感化される\",pinyin:\"qian2 yi2 mo4 hua4\",pinyinf:\"qián yí mò huà\"})\n",
      "\n",
      "<class 'py2neo.cypher.core.Record'>  w                                                                                                          \n",
      "-------------------------------------------------------------------------------------------------------------\n",
      " (n3679:Word {keyword:\"千方百计\",meaning:\"あらゆる手段を講じる\",pinyin:\"qian1 fang1 bai3 ji4\",pinyinf:\"qiān fāng bǎi jì\"})\n",
      "\n",
      "<class 'py2neo.cypher.core.Record'>  w                                                                                                         \n",
      "------------------------------------------------------------------------------------------------------------\n",
      " (n3673:Word {keyword:\"恰到好处\",meaning:\"適切である、当を得ている\",pinyin:\"qia4 dao4 hao3 chu\",pinyinf:\"qià dào hǎo chu\"})\n",
      "\n",
      "<class 'py2neo.cypher.core.Record'>  w                                                                                               \n",
      "--------------------------------------------------------------------------------------------------\n",
      " (n3669:Word {keyword:\"迄今为止\",meaning:\"今まで\",pinyin:\"qi4 jin1 wei2 zhi3\",pinyinf:\"qì jīn wéi zhǐ\"})\n",
      "\n",
      "<class 'py2neo.cypher.core.Record'>  w                                                                                                 \n",
      "----------------------------------------------------------------------------------------------------\n",
      " (n3658:Word {keyword:\"岂有此理\",meaning:\"もってのほかである\",pinyin:\"qi3 you3 ci3 li3\",pinyinf:\"qǐ yǒu cǐ lǐ\"})\n",
      "\n",
      "<class 'py2neo.cypher.core.Record'>  w                                                                                                \n",
      "---------------------------------------------------------------------------------------------------\n",
      " (n3641:Word {keyword:\"齐心协力\",meaning:\"一致協力する\",pinyin:\"qi2 xin1 xie2 li4\",pinyinf:\"qí xīn xié lì\"})\n",
      "\n",
      "<class 'py2neo.cypher.core.Record'>  w                                                                                                   \n",
      "------------------------------------------------------------------------------------------------------\n",
      " (n3611:Word {keyword:\"迫不及待\",meaning:\"気がせいて待ちきれない\",pinyin:\"po4 bu4 ji2 dai4\",pinyinf:\"pò bù jí dài\"})\n",
      "\n",
      "<class 'py2neo.cypher.core.Record'>  w                                                                                                       \n",
      "----------------------------------------------------------------------------------------------------------\n",
      " (n3402:Word {keyword:\"名副其实\",meaning:\"名実ともに備わっている\",pinyin:\"ming2 fu4 qi2 shi2\",pinyinf:\"míng fù qí shí\"})\n",
      "\n",
      "<class 'py2neo.cypher.core.Record'>  w                                                                                                    \n",
      "-------------------------------------------------------------------------------------------------------\n",
      " (n3281:Word {keyword:\"络绎不绝\",meaning:\"往来が絶え間なく続く\",pinyin:\"luo4 yi4 bu4 jue2\",pinyinf:\"luò yì bù jué\"})\n",
      "\n",
      "<class 'py2neo.cypher.core.Record'>  w                                                                                                                 \n",
      "--------------------------------------------------------------------------------------------------------------------\n",
      " (n3169:Word {keyword:\"理直气壮\",meaning:\"理屈が通っていて正々堂々としている\",pinyin:\"li3 zhi2 qi4 zhuang4\",pinyinf:\"lǐ zhí qì zhuàng\"})\n",
      "\n",
      "<class 'py2neo.cypher.core.Record'>  w                                                                                                   \n",
      "------------------------------------------------------------------------------------------------------\n",
      " (n3075:Word {keyword:\"苦尽甘来\",meaning:\"苦あれば楽あり\",pinyin:\"ku3 jin4 gan1 lai2\",pinyinf:\"kǔ jìn gān lái\"})\n",
      "\n",
      "<class 'py2neo.cypher.core.Record'>  w                                                                                                          \n",
      "-------------------------------------------------------------------------------------------------------------\n",
      " (n3054:Word {keyword:\"空前绝后\",meaning:\"後にも先にもない\",pinyin:\"kong1 qian2 jue2 hou4\",pinyinf:\"kōng qián jué hòu\"})\n",
      "\n",
      "<class 'py2neo.cypher.core.Record'>  w                                                                                                      \n",
      "---------------------------------------------------------------------------------------------------------\n",
      " (n3037:Word {keyword:\"刻不容缓\",meaning:\"一刻の猶予もない\",pinyin:\"ke4 bu4 rong2 huan3\",pinyinf:\"kè bù róng huǎn\"})\n",
      "\n",
      "<class 'py2neo.cypher.core.Record'>  w                                                                                                     \n",
      "--------------------------------------------------------------------------------------------------------\n",
      " (n2955:Word {keyword:\"聚精会神\",meaning:\"一心不乱に\",pinyin:\"ju4 jing1 hui4 shen2\",pinyinf:\"jù jīng huì shén\"})\n",
      "\n",
      "<class 'py2neo.cypher.core.Record'>  w                                                                                                                   \n",
      "----------------------------------------------------------------------------------------------------------------------\n",
      " (n2947:Word {keyword:\"举足轻重\",meaning:\"一挙手一投足が重大な決定力を持っている\",pinyin:\"ju3 zu2 qing1 zhong4\",pinyinf:\"jǔ zú qīng zhòng\"})\n",
      "\n",
      "<class 'py2neo.cypher.core.Record'>  w                                                                                                    \n",
      "-------------------------------------------------------------------------------------------------------\n",
      " (n2945:Word {keyword:\"举世瞩目\",meaning:\"全世界の注目を集める\",pinyin:\"ju3 shi4 zhu3 mu4\",pinyinf:\"jǔ shì zhǔ mù\"})\n",
      "\n",
      "<class 'py2neo.cypher.core.Record'>  w                                                                                                         \n",
      "------------------------------------------------------------------------------------------------------------\n",
      " (n2944:Word {keyword:\"举世闻名\",meaning:\"天下に名が知られている\",pinyin:\"ju3 shi4 wen2 ming2\",pinyinf:\"jǔ shì wén míng\"})\n",
      "\n",
      "<class 'py2neo.cypher.core.Record'>  w                                                                                                        \n",
      "-----------------------------------------------------------------------------------------------------------\n",
      " (n2905:Word {keyword:\"兢兢业业\",meaning:\"勤勉でまじめである\",pinyin:\"jing1 jing1 ye4 ye4\",pinyinf:\"jīng jīng yè yè \"})\n",
      "\n",
      "<class 'py2neo.cypher.core.Record'>  w                                                                                                              \n",
      "-----------------------------------------------------------------------------------------------------------------\n",
      " (n2890:Word {keyword:\"精益求精\",meaning:\"精を出してたゆまず向上する\",pinyin:\"jing1 yi4 qiu2 jing1\",pinyinf:\"jīng yì qiú jīng \"})\n",
      "\n",
      "<class 'py2neo.cypher.core.Record'>  w                                                                                                                \n",
      "-------------------------------------------------------------------------------------------------------------------\n",
      " (n2881:Word {keyword:\"精打细算\",meaning:\"詳細な計画を立てる、緻密な計算をする\",pinyin:\"jing1 da3 xi4 suan4\",pinyinf:\"jīng dǎ xì suàn\"})\n",
      "\n",
      "<class 'py2neo.cypher.core.Record'>  w                                                                                                          \n",
      "-------------------------------------------------------------------------------------------------------------\n",
      " (n2862:Word {keyword:\"锦绣前程\",meaning:\"輝かしい前途\",pinyin:\"jin1 xiu4 qian2 cheng2\",pinyinf:\"jīn xiù qián chéng\"})\n",
      "\n",
      "<class 'py2neo.cypher.core.Record'>  w                                                                                                     \n",
      "--------------------------------------------------------------------------------------------------------\n",
      " (n2852:Word {keyword:\"津津有味\",meaning:\"非常に興味深い\",pinyin:\"jin1 jin1 you3 wei4\",pinyinf:\"jīn jīn yǒu wèi\"})\n",
      "\n",
      "<class 'py2neo.cypher.core.Record'>  w                                                                                                     \n",
      "--------------------------------------------------------------------------------------------------------\n",
      " (n2831:Word {keyword:\"竭尽全力\",meaning:\"全力を尽くして\",pinyin:\"jie2 jin4 quan2 li4\",pinyinf:\"jié jìn quán lì\"})\n",
      "\n",
      "<class 'py2neo.cypher.core.Record'>  w                                                                                                           \n",
      "--------------------------------------------------------------------------------------------------------------\n",
      " (n2746:Word {keyword:\"见义勇为\",meaning:\"正義のために勇敢に戦う\",pinyin:\"jian4 yi4 yong3 wei2\",pinyinf:\"jiàn yì yǒng wéi\"})\n",
      "\n",
      "<class 'py2neo.cypher.core.Record'>  w                                                                                                               \n",
      "------------------------------------------------------------------------------------------------------------------\n",
      " (n2742:Word {keyword:\"见多识广\",meaning:\"経験が豊富で知識が広い\",pinyin:\"jian4 duo1 shi2 guang3\",pinyinf:\"jiàn duō shí guǎng\"})\n",
      "\n",
      "<class 'py2neo.cypher.core.Record'>  w                                                                                                              \n",
      "-----------------------------------------------------------------------------------------------------------------\n",
      " (n2651:Word {keyword:\"继往开来\",meaning:\"事業を継続して将来の道筋をつける\",pinyin:\"ji4 wang3 kai1 lai2\",pinyinf:\"jì wǎng kāi lái\"})\n",
      "\n",
      "<class 'py2neo.cypher.core.Record'>  w                                                                                                      \n",
      "---------------------------------------------------------------------------------------------------------\n",
      " (n2639:Word {keyword:\"急于求成\",meaning:\"成功のために焦る\",pinyin:\"ji2 yu2 qiu2 cheng2\",pinyinf:\"jí yú qiú chéng\"})\n",
      "\n",
      "<class 'py2neo.cypher.core.Record'>  w                                                                                                          \n",
      "-------------------------------------------------------------------------------------------------------------\n",
      " (n2635:Word {keyword:\"急功近利\",meaning:\"功を急いで目前の利益を求める\",pinyin:\"ji2 gong1 jin4 li4\",pinyinf:\"jí gōng jìn lì\"})\n",
      "\n",
      "<class 'py2neo.cypher.core.Record'>  w                                                                                                     \n",
      "--------------------------------------------------------------------------------------------------------\n",
      " (n2559:Word {keyword:\"恍然大悟\",meaning:\"はたと思いつく\",pinyin:\"huang3 ran2 da4 wu4\",pinyinf:\"huǎng rán dà wù\"})\n",
      "\n",
      "<class 'py2neo.cypher.core.Record'>  w                                                                                                         \n",
      "------------------------------------------------------------------------------------------------------------\n",
      " (n2526:Word {keyword:\"画蛇添足\",meaning:\"よけいな付け足しをする\",pinyin:\"hua4 she2 tian1 zu2\",pinyinf:\"huà shé tiān zú\"})\n",
      "\n",
      "<class 'py2neo.cypher.core.Record'>  w                                                                                                         \n",
      "------------------------------------------------------------------------------------------------------------\n",
      " (n2494:Word {keyword:\"后顾之忧\",meaning:\"あとになって気になる、憂う\",pinyin:\"hou4 gu4 zhi1 you1\",pinyinf:\"hòu gù zhī yōu\"})\n",
      "\n",
      "<class 'py2neo.cypher.core.Record'>  w                                                                                                  \n",
      "-----------------------------------------------------------------------------------------------------\n",
      " (n2380:Word {keyword:\"归根到底\",meaning:\"結局のところ\",pinyin:\"gui1 gen1 dao4 di3\",pinyinf:\"guī gēn dào dǐ\"})\n",
      "\n",
      "<class 'py2neo.cypher.core.Record'>  w                                                                                                            \n",
      "---------------------------------------------------------------------------------------------------------------\n",
      " (n2270:Word {keyword:\"供不应求\",meaning:\"供給が需要に追いつかない\",pinyin:\"gong4 bu2 ying4 qiu2\",pinyinf:\"gòng bú yìng qiú\"})\n",
      "\n",
      "<class 'py2neo.cypher.core.Record'>  w                                                                                                       \n",
      "----------------------------------------------------------------------------------------------------------\n",
      " (n2237:Word {keyword:\"根深蒂固\",meaning:\"基礎が堅固で動用しない\",pinyin:\"gen1 shen1 di4 ge4\",pinyinf:\"gēn shēn dì gè\"})\n",
      "\n",
      "<class 'py2neo.cypher.core.Record'>  w                                                                                                      \n",
      "---------------------------------------------------------------------------------------------------------\n",
      " (n2231:Word {keyword:\"各抒己见\",meaning:\"各自の意見を表明する\",pinyin:\"ge4 shu1 ji3 jian4\",pinyinf:\"gè shū jǐ jiàn\"})\n",
      "\n",
      "<class 'py2neo.cypher.core.Record'>  w                                                                                                     \n",
      "--------------------------------------------------------------------------------------------------------\n",
      " (n1932:Word {keyword:\"断断续续\",meaning:\"断続的な様子\",pinyin:\"duan4 duan4 xu4 xu4\",pinyinf:\"duàn duàn xù xù \"})\n",
      "\n",
      "<class 'py2neo.cypher.core.Record'>  w                                                                                                     \n",
      "--------------------------------------------------------------------------------------------------------\n",
      " (n1886:Word {keyword:\"丢三落四\",meaning:\"物忘れが激しい様子\",pinyin:\"diu1 san1 luo4 si4\",pinyinf:\"diū sān luò sì\"})\n",
      "\n",
      "<class 'py2neo.cypher.core.Record'>  w                                                                                                     \n",
      "--------------------------------------------------------------------------------------------------------\n",
      " (n1813:Word {keyword:\"得天独厚\",meaning:\"境遇が恵まれている\",pinyin:\"de2 tian1 du2 hou4\",pinyinf:\"dé tiān dú hòu\"})\n",
      "\n",
      "<class 'py2neo.cypher.core.Record'>  w                                                                                                                  \n",
      "---------------------------------------------------------------------------------------------------------------------\n",
      " (n1811:Word {keyword:\"得不偿失\",meaning:\"得よりも損のほうが大きく割りに合わない\",pinyin:\"de2? bu4 chang2 shi1\",pinyinf:\"dé bù cháng shī\"})\n",
      "\n",
      "<class 'py2neo.cypher.core.Record'>  w                                                                                                 \n",
      "----------------------------------------------------------------------------------------------------\n",
      " (n1784:Word {keyword:\"当务之急\",meaning:\"当面の急務\",pinyin:\"dang1 wu4 zhi1 ji2\",pinyinf:\"dāng wù zhī jí\"})\n",
      "\n",
      "<class 'py2neo.cypher.core.Record'>  w                                                                                                       \n",
      "----------------------------------------------------------------------------------------------------------\n",
      " (n1684:Word {keyword:\"从容不迫\",meaning:\"落ち着き払った様子\",pinyin:\"cong2 rong2 bu2 po4\",pinyinf:\"cóng róng bú pò\"})\n",
      "\n",
      "<class 'py2neo.cypher.core.Record'>  w                                                                                                                       \n",
      "--------------------------------------------------------------------------------------------------------------------------\n",
      " (n1636:Word {keyword:\"川流不息\",meaning:\"(人などの往来が）川の流れのように絶え間なく続く\",pinyin:\"chuan1 liu2 bu4? xi1\",pinyinf:\"chuān liú bù xī\"})\n",
      "\n",
      "<class 'py2neo.cypher.core.Record'>  w                                                                                                         \n",
      "------------------------------------------------------------------------------------------------------------\n",
      " (n1527:Word {keyword:\"称心如意\",meaning:\"思いどおりになって満足する\",pinyin:\"chen4 xin1 ru2 yi4\",pinyinf:\"chèn xīn rú yì\"})\n",
      "\n",
      "<class 'py2neo.cypher.core.Record'>  w                                                                                                             \n",
      "----------------------------------------------------------------------------------------------------------------\n",
      " (n1465:Word {keyword:\"层出不穷\",meaning:\"次々と現れて尽きない\",pinyin:\"ceng2 chu1 bu4? qiong2\",pinyinf:\"céng chū bù qióng\"})\n",
      "\n",
      "<class 'py2neo.cypher.core.Record'>  w                                                                                                     \n",
      "--------------------------------------------------------------------------------------------------------\n",
      " (n1398:Word {keyword:\"不择手段\",meaning:\"手段を選ばない\",pinyin:\"bu4 ze2 shou3 duan4\",pinyinf:\"bù zé shǒu duàn\"})\n",
      "\n",
      "<class 'py2neo.cypher.core.Record'>  w                                                                                                    \n",
      "-------------------------------------------------------------------------------------------------------\n",
      " (n1396:Word {keyword:\"不言而喻\",meaning:\"言わなくても明らかである\",pinyin:\"bu4 yan2 er2 yu4\",pinyinf:\"bù yán ér yù\"})\n",
      "\n",
      "<class 'py2neo.cypher.core.Record'>  w                                                                                                              \n",
      "-----------------------------------------------------------------------------------------------------------------\n",
      " (n1395:Word {keyword:\"不相上下\",meaning:\"優劣がない、差がない\",pinyin:\"bu4 xiang1 shang4 xia4\",pinyinf:\"bù xiāng shàng xià\"})\n",
      "\n",
      "<class 'py2neo.cypher.core.Record'>  w                                                                                              \n",
      "-------------------------------------------------------------------------------------------------\n",
      " (n1386:Word {keyword:\"不好意思\",meaning:\"お恥ずかしい\",pinyin:\"bu4 hao2 yi4 si1\",pinyinf:\"bù háo yì sī\"})\n",
      "\n",
      "<class 'py2neo.cypher.core.Record'>  w                                                                                                \n",
      "---------------------------------------------------------------------------------------------------\n",
      " (n1371:Word {keyword:\"不屑一顾\",meaning:\"一顧だに値しない\",pinyin:\"bu2 xie4 yi2 gu4\",pinyinf:\"bú xiè yí gù\"})\n",
      "\n",
      "<class 'py2neo.cypher.core.Record'>  w                                                                                                                   \n",
      "----------------------------------------------------------------------------------------------------------------------\n",
      " (n1354:Word {keyword:\"博大精深\",meaning:\"技能・知識に関し広く豊かな学識をもっている\",pinyin:\"bo2 da4 jing1 shen1\",pinyinf:\"bó dà jīng shēn\"})\n",
      "\n",
      "<class 'py2neo.cypher.core.Record'>  w                                                                                                            \n",
      "---------------------------------------------------------------------------------------------------------------\n",
      " (n1351:Word {keyword:\"波涛汹涌\",meaning:\"逆巻く波の様子を表す\",pinyin:\"bo1 tao1 xiong1 yong3\",pinyinf:\"bō tāo xiōng yǒng\"})\n",
      "\n",
      "<class 'py2neo.cypher.core.Record'>  w                                                                                                                        \n",
      "---------------------------------------------------------------------------------------------------------------------------\n",
      " (n1198:Word {keyword:\"饱经沧桑\",meaning:\"多くの世間の変化を経る。世の無常の例え。\",pinyin:\"bao3 jing1 cang1 sang1\",pinyinf:\"bǎo jīng cāng sāng\"})\n",
      "\n",
      "<class 'py2neo.cypher.core.Record'>  w                                                                                                 \n",
      "----------------------------------------------------------------------------------------------------\n",
      " (n1174:Word {keyword:\"半途而废\",meaning:\"中途半端である\",pinyin:\"ban4 tu2 er2 fei4\",pinyinf:\"bàn tú ér fèi\"})\n",
      "\n",
      "<class 'py2neo.cypher.core.Record'>  w                                                                                                            \n",
      "---------------------------------------------------------------------------------------------------------------\n",
      " (n1147:Word {keyword:\"拔苗助长\",meaning:\"功を焦って方法を誤る\",pinyin:\"ba2 miao2 zhu4 chang2\",pinyinf:\"bá miáo zhù cháng\"})\n",
      "\n",
      "<class 'py2neo.cypher.core.Record'>  w                                                                                                   \n",
      "------------------------------------------------------------------------------------------------------\n",
      " (n1123:Word {keyword:\"安居乐业\",meaning:\"安心して生活し、楽しく働く\",pinyin:\"an1 ju1 le4 ye4\",pinyinf:\"ān jū lè yè\"})\n",
      "\n",
      "<class 'py2neo.cypher.core.Record'>  w                                                                                                        \n",
      "-----------------------------------------------------------------------------------------------------------\n",
      " (n1114:Word {keyword:\"爱不释手\",meaning:\"好きで手放すに忍びない。\",pinyin:\"ai4 bu2 shi4 shou3\",pinyinf:\"ài bú shì shǒu\"})\n",
      "\n",
      "<class 'py2neo.cypher.core.Record'>  w                                                                                             \n",
      "------------------------------------------------------------------------------------------------\n",
      " (n1102:Word {keyword:\"钻空子\",meaning:\"人の隙につけいる\",pinyin:\"zuan1 kong4 zi\",pinyinf:\"zuān kòng zi\"})\n",
      "\n",
      "<class 'py2neo.cypher.core.Record'>  w                                                                                                                             \n",
      "--------------------------------------------------------------------------------------------------------------------------------\n",
      " (n1082:Word {keyword:\"追悔莫及\",meaning:\"非常に後悔しているが、もう取り返しが付かず悔やんでも悔やみきれない\",pinyin:\"zhui1 hui3 mo4 ji2\",pinyinf:\"zhuī huǐ mò jí\"})\n",
      "\n",
      "<class 'py2neo.cypher.core.Record'>  w                                                                                                                     \n",
      "------------------------------------------------------------------------------------------------------------------------\n",
      " (n1067:Word {keyword:\"主贤客来勤\",meaning:\"主人が多くの客を引きつける\",pinyin:\"zhu3 xian2 ke4 lai2 qin2\",pinyinf:\"zhǔ xián kè lái qín\"})\n",
      "\n",
      "<class 'py2neo.cypher.core.Record'>  w                                                                                                       \n",
      "----------------------------------------------------------------------------------------------------------\n",
      " (n1061:Word {keyword:\"众人皆知\",meaning:\"周知の通り\",pinyin:\"zhong4 ren2 jie1 zhi1\",pinyinf:\"zhòng rén jiē zhī\"})\n",
      "\n",
      "<class 'py2neo.cypher.core.Record'>  w                                                                                                                      \n",
      "-------------------------------------------------------------------------------------------------------------------------\n",
      " (n1049:Word {keyword:\"知之甚少\",meaning:\"(謙遜の意味を含んで)あまり知らない\",pinyin:\"zhi1 zhi1 shen4 shao3\",pinyinf:\"zhī  zhī  shèn shǎo\"})\n",
      "\n",
      "<class 'py2neo.cypher.core.Record'>  w                                                                                                                 \n",
      "--------------------------------------------------------------------------------------------------------------------\n",
      " (n999:Word {keyword:\"欲罢不能\",meaning:\"やめたくてもやめられない、手を引こうにも引けない\",pinyin:\"yu4 ba4 bu4 neng2\",pinyinf:\"yù bà bù néng\"})\n",
      "\n",
      "<class 'py2neo.cypher.core.Record'>  w                                                                                                         \n",
      "------------------------------------------------------------------------------------------------------------\n",
      " (n997:Word {keyword:\"郁郁葱葱\",meaning:\"草木が生い茂る様子\",pinyin:\"yu4 yu4 cong1 cong1\",pinyinf:\"yù  yù  cōng cōng \"})\n",
      "\n",
      "<class 'py2neo.cypher.core.Record'>  w                                                                                                              \n",
      "-----------------------------------------------------------------------------------------------------------------\n",
      " (n990:Word {keyword:\"有来有往\",meaning:\"つきあいをする、交際をする\",pinyin:\"you3 lai2 you3 wang3\",pinyinf:\"yǒu  lái yǒu  wǎng\"})\n",
      "\n",
      "<class 'py2neo.cypher.core.Record'>  w                                                                                                    \n",
      "-------------------------------------------------------------------------------------------------------\n",
      " (n972:Word {keyword:\"以逸待劳\",meaning:\"英気を養う、力を蓄える\",pinyin:\"yi3 yi4 dai4 lao2\",pinyinf:\"yǐ yì dài láo\"})\n",
      "\n",
      "<class 'py2neo.cypher.core.Record'>  w                                                                                                  \n",
      "-----------------------------------------------------------------------------------------------------\n",
      " (n971:Word {keyword:\"以身作则\",meaning:\"自ら手本を示す\",pinyin:\"yi3 shen1 zuo4 ze2\",pinyinf:\"yǐ shēn zuò zé\"})\n",
      "\n",
      "<class 'py2neo.cypher.core.Record'>  w                                                                                                \n",
      "---------------------------------------------------------------------------------------------------\n",
      " (n967:Word {keyword:\"依依不舍\",meaning:\"離れがたい様子\",pinyin:\"yi1 yi1 bu4 she3\",pinyinf:\"yī  yī  bù shě\"})\n",
      "\n",
      "<class 'py2neo.cypher.core.Record'>  w                                                                                                                  \n",
      "---------------------------------------------------------------------------------------------------------------------\n",
      " (n963:Word {keyword:\"一无是处\",meaning:\"正しいところが一つもない、良いところが一つもない。\",pinyin:\"yi1 wu2 shi4 chu4\",pinyinf:\"yī wú shì chù\"})\n",
      "\n",
      "<class 'py2neo.cypher.core.Record'>  w                                                                                               \n",
      "--------------------------------------------------------------------------------------------------\n",
      " (n960:Word {keyword:\"一举一动\",meaning:\"一挙手一投足\",pinyin:\"yi4 ju3 yi2 dong4\",pinyinf:\"yì jǔ yí dòng\"})\n",
      "\n",
      "<class 'py2neo.cypher.core.Record'>  w                                                                                                      \n",
      "---------------------------------------------------------------------------------------------------------\n",
      " (n958:Word {keyword:\"一概而论\",meaning:\"一概に論じる、一律に論じる\",pinyin:\"yi1 gai4 er2 lun4\",pinyinf:\"yī gài ér lùn\"})\n",
      "\n",
      "<class 'py2neo.cypher.core.Record'>  w                                                                                                       \n",
      "----------------------------------------------------------------------------------------------------------\n",
      " (n953:Word {keyword:\"尧天舜日\",meaning:\"太平の世のたとえ\",pinyin:\"yao2 tian1 shun4 ri4\",pinyinf:\"yáo tiān shùn rì\"})\n",
      "\n",
      "<class 'py2neo.cypher.core.Record'>  w                                                                                                                  \n",
      "---------------------------------------------------------------------------------------------------------------------\n",
      " (n949:Word {keyword:\"养儿防老\",meaning:\"老後の面倒を見てもらうために子供を産む\",pinyin:\"yang3 er2 fang2 lao3\",pinyinf:\"yǎng ér fáng lǎo\"})\n",
      "\n",
      "<class 'py2neo.cypher.core.Record'>  w                                                                                                                     \n",
      "------------------------------------------------------------------------------------------------------------------------\n",
      " (n944:Word {keyword:\"眼花缭乱\",meaning:\"(色とりどりで)目がちらつく、目がくらむ\",pinyin:\"yan3 hua1 liao2 luan4\",pinyinf:\"yǎn huā liáo luàn\"})\n",
      "\n",
      "<class 'py2neo.cypher.core.Record'>  w                                                                                                             \n",
      "----------------------------------------------------------------------------------------------------------------\n",
      " (n923:Word {keyword:\"行色匆匆\",meaning:\"旅立ち間際の忙しい様子\",pinyin:\"xing2 se4 cong1 cong1\",pinyinf:\"xíng sè cōng cōng \"})\n",
      "\n",
      "<class 'py2neo.cypher.core.Record'>  w                                                                                                             \n",
      "----------------------------------------------------------------------------------------------------------------\n",
      " (n916:Word {keyword:\"心照不宣\",meaning:\"口に出さずとも理解できる様子\",pinyin:\"xin1 zhao4 bu4 xuan1\",pinyinf:\"xīn zhào bù xuān\"})\n",
      "\n",
      "<class 'py2neo.cypher.core.Record'>  w                                                                                                                    \n",
      "-----------------------------------------------------------------------------------------------------------------------\n",
      " (n914:Word {keyword:\"心心相印\",meaning:\"心が通じ合う、互いに深く理解し合う\",pinyin:\"xin1 xin1 xiang1 yin4\",pinyinf:\"xīn  xīn  xiāng yìn\"})\n",
      "\n",
      "<class 'py2neo.cypher.core.Record'>  w                                                                                                              \n",
      "-----------------------------------------------------------------------------------------------------------------\n",
      " (n911:Word {keyword:\"心里有数\",meaning:\"熟知している、良いアイディアを持っている\",pinyin:\"xin1 li you3 shu4\",pinyinf:\"xīn li yǒu shù\"})\n",
      "\n",
      "<class 'py2neo.cypher.core.Record'>  w                                                                                                    \n",
      "-------------------------------------------------------------------------------------------------------\n",
      " (n908:Word {keyword:\"心烦意乱\",meaning:\"激しく混乱した\",pinyin:\"xin1 fan2 yi4 luan4\",pinyinf:\"xīn fán yì luàn\"})\n",
      "\n",
      "<class 'py2neo.cypher.core.Record'>  w                                                                                                                        \n",
      "---------------------------------------------------------------------------------------------------------------------------\n",
      " (n888:Word {keyword:\"想方设法\",meaning:\"あれこれ方法を考える、いろいろと手立てを考える\",pinyin:\"xiang3 fang1 she4 fa3\",pinyinf:\"xiǎng fāng shè fǎ\"})\n",
      "\n",
      "<class 'py2neo.cypher.core.Record'>  w                                                                                                            \n",
      "---------------------------------------------------------------------------------------------------------------\n",
      " (n884:Word {keyword:\"相依为命\",meaning:\"互いに頼り合って生きる\",pinyin:\"xiang1 yi1 wei2 ming4\",pinyinf:\"xiāng yī wéi mìng\"})\n",
      "\n",
      "<class 'py2neo.cypher.core.Record'>  w                                                                                                         \n",
      "------------------------------------------------------------------------------------------------------------\n",
      " (n883:Word {keyword:\"相濡以沫\",meaning:\"お互いに困難な状況で助け合う\",pinyin:\"xiang1 ru2 yi3 mo4\",pinyinf:\"xiāng rú yǐ mò\"})\n",
      "\n",
      "<class 'py2neo.cypher.core.Record'>  w                                                                                                   \n",
      "------------------------------------------------------------------------------------------------------\n",
      " (n880:Word {keyword:\"显而易见\",meaning:\"明らかである\",pinyin:\"xian3 er2 yi4 jian4\",pinyinf:\"xiǎn ér yì jiàn\"})\n",
      "\n",
      "<class 'py2neo.cypher.core.Record'>  w                                                                                                \n",
      "---------------------------------------------------------------------------------------------------\n",
      " (n875:Word {keyword:\"吓一跳\",meaning:\"驚かす、脅かす、怖がらせる\",pinyin:\"xia4 yi1 tiao4\",pinyinf:\"xià yī tiào\"})\n",
      "\n",
      "<class 'py2neo.cypher.core.Record'>  w                                                                                                     \n",
      "--------------------------------------------------------------------------------------------------------\n",
      " (n868:Word {keyword:\"喜出望外\",meaning:\"思いがけない喜び\",pinyin:\"xi3 chu1 wang4 wai4\",pinyinf:\"xǐ chū wàng wài\"})\n",
      "\n",
      "<class 'py2neo.cypher.core.Record'>  w                                                                                                           \n",
      "--------------------------------------------------------------------------------------------------------------\n",
      " (n861:Word {keyword:\"无影无踪\",meaning:\"影も形もない、跡形もない\",pinyin:\"wu2 ying3 wu2 zong1\",pinyinf:\"wú  yǐng wú  zōng\"})\n",
      "\n",
      "<class 'py2neo.cypher.core.Record'>  w                                                                                                             \n",
      "----------------------------------------------------------------------------------------------------------------\n",
      " (n857:Word {keyword:\"无能为力\",meaning:\"どうすることも出来ない、無力である。\",pinyin:\"wu2 neng2 wei2 li4\",pinyinf:\"wú néng wéi lì\"})\n",
      "\n",
      "<class 'py2neo.cypher.core.Record'>  w                                                                                                        \n",
      "-----------------------------------------------------------------------------------------------------------\n",
      " (n856:Word {keyword:\"无孔不入\",meaning:\"利用できるものは何でも利用する\",pinyin:\"wu2 kong3 bu2 ru4\",pinyinf:\"wú kǒng bú rù\"})\n",
      "\n",
      "<class 'py2neo.cypher.core.Record'>  w                                                                                                                     \n",
      "------------------------------------------------------------------------------------------------------------------------\n",
      " (n855:Word {keyword:\"无可厚非\",meaning:\"非難するほどのものではない、欠点はあるが取るべき点もある\",pinyin:\"wu2 ke3 hou4 fei1\",pinyinf:\"wú kě hòu fēi\"})\n",
      "\n",
      "<class 'py2neo.cypher.core.Record'>  w                                                                                                  \n",
      "-----------------------------------------------------------------------------------------------------\n",
      " (n852:Word {keyword:\"文人墨客\",meaning:\"知識階級（の人々）\",pinyin:\"wen2 ren2 mo4 ke4\",pinyinf:\"wén rén mò kè\"})\n",
      "\n",
      "<class 'py2neo.cypher.core.Record'>  w                                                                                                       \n",
      "----------------------------------------------------------------------------------------------------------\n",
      " (n847:Word {keyword:\"未尝不可\",meaning:\"ダメという訳ではない\",pinyin:\"wei4 chang2 bu4 ke3\",pinyinf:\"wèi cháng bù kě\"})\n",
      "\n",
      "<class 'py2neo.cypher.core.Record'>  w                                                                                            \n",
      "-----------------------------------------------------------------------------------------------\n",
      " (n839:Word {keyword:\"为生\",meaning:\"(以〜−で)~をもって生活する\",pinyin:\"wei2 sheng1\",pinyinf:\"wéi shēng\"})\n",
      "\n",
      "<class 'py2neo.cypher.core.Record'>  w                                                                                                              \n",
      "-----------------------------------------------------------------------------------------------------------------\n",
      " (n836:Word {keyword:\"微乎其微\",meaning:\"きわめて微細である、きわめてわずかである\",pinyin:\"wei1 hu1 qi2 wei1\",pinyinf:\"wēi hū qí wēi \"})\n",
      "\n",
      "<class 'py2neo.cypher.core.Record'>  w                                                                                                                            \n",
      "-------------------------------------------------------------------------------------------------------------------------------\n",
      " (n833:Word {keyword:\"望子成龙\",meaning:\"我が子が長じて出世して、立派な人物になることを望む\",pinyin:\"wang4 zi3 cheng2 long2\",pinyinf:\"wàng zǐ chéng lóng\"})\n",
      "\n",
      "<class 'py2neo.cypher.core.Record'>  w                                                                                                 \n",
      "----------------------------------------------------------------------------------------------------\n",
      " (n818:Word {keyword:\"突发奇想\",meaning:\"突然思い出す\",pinyin:\"tu1 fa1 qi2 xiang3\",pinyinf:\"tū fā qí xiǎng\"})\n",
      "\n",
      "<class 'py2neo.cypher.core.Record'>  w                                                                                                              \n",
      "-----------------------------------------------------------------------------------------------------------------\n",
      " (n814:Word {keyword:\"投石问路\",meaning:\"試験的に実行して反応を探ることのたとえ\",pinyin:\"tou2 shi2 wen4 lu4\",pinyinf:\"tóu shí wèn lù\"})\n",
      "\n",
      "<class 'py2neo.cypher.core.Record'>  w                                                                                                                \n",
      "-------------------------------------------------------------------------------------------------------------------\n",
      " (n804:Word {keyword:\"添砖加瓦\",meaning:\"自分の力の及ぶ限りのことをする\",pinyin:\"tian1 zhuan1 jia1 wa3\",pinyinf:\"tiān zhuān jiā wǎ\"})\n",
      "\n",
      "<class 'py2neo.cypher.core.Record'>  w                                                                                                             \n",
      "----------------------------------------------------------------------------------------------------------------\n",
      " (n803:Word {keyword:\"天涯海角\",meaning:\"天地の果て、遠く辺鄙なところ\",pinyin:\"tian1 ya2 hai3 jiao3\",pinyinf:\"tiān yá hǎi jiǎo\"})\n",
      "\n",
      "<class 'py2neo.cypher.core.Record'>  w                                                                                                    \n",
      "-------------------------------------------------------------------------------------------------------\n",
      " (n802:Word {keyword:\"天伦之乐\",meaning:\"一家団欒の喜び\",pinyin:\"tian1 lun2 zhi1 le4\",pinyinf:\"tiān lún zhī lè\"})\n",
      "\n",
      "<class 'py2neo.cypher.core.Record'>  w                                                                                                        \n",
      "-----------------------------------------------------------------------------------------------------------\n",
      " (n792:Word {keyword:\"谈婚论嫁\",meaning:\"結婚について話を進める\",pinyin:\"tan2 hun1 lun4 jia4\",pinyinf:\"tán hūn lùn jià\"})\n",
      "\n",
      "<class 'py2neo.cypher.core.Record'>  w                                                                                                   \n",
      "------------------------------------------------------------------------------------------------------\n",
      " (n779:Word {keyword:\"随心所欲\",meaning:\"したい放題にする\",pinyin:\"sui2 xin1 suo3 yu4\",pinyinf:\"suí xīn suǒ yù\"})\n",
      "\n",
      "<class 'py2neo.cypher.core.Record'>  w                                                                                                           \n",
      "--------------------------------------------------------------------------------------------------------------\n",
      " (n776:Word {keyword:\"素不相识\",meaning:\"全く知らない、見たことがない\",pinyin:\"su4 bu4 xiang1 shi2\",pinyinf:\"sù bù xiāng shí\"})\n",
      "\n",
      "<class 'py2neo.cypher.core.Record'>  w                                                                                                     \n",
      "--------------------------------------------------------------------------------------------------------\n",
      " (n768:Word {keyword:\"硕大无朋\",meaning:\"比類なき、大きい\",pinyin:\"shuo4 da4 wu2 peng2\",pinyinf:\"shuò dà wú péng\"})\n",
      "\n",
      "<class 'py2neo.cypher.core.Record'>  w                                                                                                                              \n",
      "---------------------------------------------------------------------------------------------------------------------------------\n",
      " (n763:Word {keyword:\"水泄不通\",meaning:\"びっしり詰まっているさま、水も漏らさぬ、厳重に包囲しているさま\",pinyin:\"shui3 xie4 bu4 tong1\",pinyinf:\"shuǐ xiè bù tōng\"})\n",
      "\n",
      "<class 'py2neo.cypher.core.Record'>  w                                                                                   \n",
      "--------------------------------------------------------------------------------------\n",
      " (n753:Word {keyword:\"受罪\",meaning:\"不愉快な目に遭う\",pinyin:\"shou4 zui4\",pinyinf:\"shòu zuì\"})\n",
      "\n",
      "<class 'py2neo.cypher.core.Record'>  w                                                                                                               \n",
      "------------------------------------------------------------------------------------------------------------------\n",
      " (n746:Word {keyword:\"适销对路\",meaning:\"消費者のニーズに合って売れ行きが良い\",pinyin:\"shi4 xiao1 dui4 lu4\",pinyinf:\"shì xiāo duì lù\"})\n",
      "\n",
      "<class 'py2neo.cypher.core.Record'>  w                                                                                                               \n",
      "------------------------------------------------------------------------------------------------------------------\n",
      " (n740:Word {keyword:\"拾金不昧\",meaning:\"金を拾っても着服しない、拾得物は届け出る\",pinyin:\"shi2 jin1 bu2 mei4\",pinyinf:\"shí jīn bú mèi\"})\n",
      "\n",
      "<class 'py2neo.cypher.core.Record'>  w                                                                                                           \n",
      "--------------------------------------------------------------------------------------------------------------\n",
      " (n739:Word {keyword:\"实事求是\",meaning:\"事実に即して問題を処理する\",pinyin:\"shi2 shi4 qiu2 shi4\",pinyinf:\"shí shì qiú shì \"})\n",
      "\n",
      "<class 'py2neo.cypher.core.Record'>  w                                                                                                    \n",
      "-------------------------------------------------------------------------------------------------------\n",
      " (n722:Word {keyword:\"深恶痛绝\",meaning:\"毛嫌いする\",pinyin:\"shen1 wu4 tong4 jue2\",pinyinf:\"shēn wù tòng jué\"})\n",
      "\n",
      "<class 'py2neo.cypher.core.Record'>  w                                                                                                         \n",
      "------------------------------------------------------------------------------------------------------------\n",
      " (n718:Word {keyword:\"设身处地\",meaning:\"他人の立場になって考える\",pinyin:\"she4 shen1 chu3 di4\",pinyinf:\"shè shēn chǔ dì\"})\n",
      "\n",
      "<class 'py2neo.cypher.core.Record'>  w                                                                                          \n",
      "---------------------------------------------------------------------------------------------\n",
      " (n714:Word {keyword:\"尚未\",meaning:\"いまだ・・・するに至らない\",pinyin:\"shang4 wei4\",pinyinf:\"shàng wèi\"})\n",
      "\n",
      "<class 'py2neo.cypher.core.Record'>  w                                                                                                   \n",
      "------------------------------------------------------------------------------------------------------\n",
      " (n704:Word {keyword:\"三角恋爱\",meaning:\"三角関係\",pinyin:\"san1 jiao3 lian4 ai4\",pinyinf:\"sān jiǎo liàn ài\"})\n",
      "\n",
      "<class 'py2neo.cypher.core.Record'>  w                                                                                                      \n",
      "---------------------------------------------------------------------------------------------------------\n",
      " (n703:Word {keyword:\"三番五次\",meaning:\"何度も、繰り返し、再三再四\",pinyin:\"san1 fan1 wu3 ci4\",pinyinf:\"sān fān wǔ cì\"})\n",
      "\n",
      "<class 'py2neo.cypher.core.Record'>  w                                                                                                             \n",
      "----------------------------------------------------------------------------------------------------------------\n",
      " (n697:Word {keyword:\"如愿以偿\",meaning:\"願いが叶う、のぞみ通りになる\",pinyin:\"ru2 yuan4 yi3 chang2\",pinyinf:\"rú yuàn yǐ cháng\"})\n",
      "\n",
      "<class 'py2neo.cypher.core.Record'>  w                                                                                                                          \n",
      "-----------------------------------------------------------------------------------------------------------------------------\n",
      " (n691:Word {keyword:\"任重道远\",meaning:\"任は重く道は遠い、任務が重大で長期間に及ぶこと\",pinyin:\"ren4 zhong4 dao4 yuan3\",pinyinf:\"rèn zhòng dào yuǎn\"})\n",
      "\n",
      "<class 'py2neo.cypher.core.Record'>  w                                                                                                    \n",
      "-------------------------------------------------------------------------------------------------------\n",
      " (n662:Word {keyword:\"亲密无间\",meaning:\"隔てなく親密である\",pinyin:\"qin1 mi4 wu2 jian4\",pinyinf:\"qīn mì wú jiàn\"})\n",
      "\n",
      "<class 'py2neo.cypher.core.Record'>  w                                                                                                       \n",
      "----------------------------------------------------------------------------------------------------------\n",
      " (n650:Word {keyword:\"牵线搭桥\",meaning:\"仲を取り持つ\",pinyin:\"qian1 xian4 da1 qiao2\",pinyinf:\"qiān xiàn dā qiáo\"})\n",
      "\n",
      "<class 'py2neo.cypher.core.Record'>  w                                                                                                   \n",
      "------------------------------------------------------------------------------------------------------\n",
      " (n646:Word {keyword:\"千差万别\",meaning:\"千差万別\",pinyin:\"qian1 cha1 wan4 bie2\",pinyinf:\"qiān chā wàn bié\"})\n",
      "\n",
      "<class 'py2neo.cypher.core.Record'>  w                                                                                               \n",
      "--------------------------------------------------------------------------------------------------\n",
      " (n625:Word {keyword:\"颇具特色\",meaning:\"特色を備えている様子\",pinyin:\"po1 ju4 te4 se4\",pinyinf:\"pō jù tè sè\"})\n",
      "\n",
      "<class 'py2neo.cypher.core.Record'>  w                                                                                                         \n",
      "------------------------------------------------------------------------------------------------------------\n",
      " (n622:Word {keyword:\"平等互利\",meaning:\"平等に、双方に利益のある\",pinyin:\"ping2 deng3 hu4 li4\",pinyinf:\"píng děng hù lì\"})\n",
      "\n",
      "<class 'py2neo.cypher.core.Record'>  w                                                                       \n",
      "--------------------------------------------------------------------------\n",
      " (n2:Word {keyword:\"熬夜\",meaning:\"徹夜する\",pinyin:\"ao2 ye4\",pinyinf:\"áo yè\"})\n",
      "\n",
      "<class 'py2neo.cypher.core.Record'>  w                                                                                                  \n",
      "-----------------------------------------------------------------------------------------------------\n",
      " (n35:Word {keyword:\"比比皆是\",meaning:\"どこからも見える\",pinyin:\"bi3 bi3 jie1 shi4\",pinyinf:\"bǐ  bǐ  jiē shì\"})\n",
      "\n",
      "<class 'py2neo.cypher.core.Record'>  w                                                                                                     \n",
      "--------------------------------------------------------------------------------------------------------\n",
      " (n42:Word {keyword:\"避苦趋乐\",meaning:\"苦労せずに楽な道を選んで歩く生き方\",pinyin:\"bi4 ku3 qu1 le4\",pinyinf:\"bì kǔ qū lè\"})\n",
      "\n",
      "<class 'py2neo.cypher.core.Record'>  w                                                                                                         \n",
      "------------------------------------------------------------------------------------------------------------\n",
      " (n51:Word {keyword:\"别有用心\",meaning:\"魂胆がある、下心がある\",pinyin:\"bie2 you3 yong4 xin1\",pinyinf:\"bié yǒu yòng xīn\"})\n",
      "\n",
      "<class 'py2neo.cypher.core.Record'>  w                                                                                                                                           \n",
      "----------------------------------------------------------------------------------------------------------------------------------------------\n",
      " (n62:Word {keyword:\"不入虎穴，焉得虎子\",meaning:\"虎穴に入らずんば虎児を得ず\",pinyin:\"bu2 ru4 hu3 xue2 yan1 de2 hu3 zi3\",pinyinf:\"bú rù hǔ  xué , yān dé hǔ  zi \"})\n",
      "\n",
      "<class 'py2neo.cypher.core.Record'>  w                                                                                                  \n",
      "-----------------------------------------------------------------------------------------------------\n",
      " (n64:Word {keyword:\"不依不饶\",meaning:\"許さない、ムキになる\",pinyin:\"bu4 yi1 bu4 rao2\",pinyinf:\"bù  yī bù  ráo\"})\n",
      "\n",
      "<class 'py2neo.cypher.core.Record'>  w                                                                                                         \n",
      "------------------------------------------------------------------------------------------------------------\n",
      " (n87:Word {keyword:\"车水马龙\",meaning:\"交通の往来が盛んな様子\",pinyin:\"che1 shui3 ma3 long2\",pinyinf:\"chē shuǐ mǎ lóng\"})\n",
      "\n",
      "<class 'py2neo.cypher.core.Record'>  w                                                                                  \n",
      "-------------------------------------------------------------------------------------\n",
      " (n93:Word {keyword:\"成家\",meaning:\"結婚すること\",pinyin:\"cheng2 jia1\",pinyinf:\"chéng jiā\"})\n",
      "\n",
      "<class 'py2neo.cypher.core.Record'>  w                                                                                                          \n",
      "-------------------------------------------------------------------------------------------------------------\n",
      " (n118:Word {keyword:\"触目惊心\",meaning:\"ひどい情景を見て心を痛める\",pinyin:\"chu4 mu4 jing1 xin1\",pinyinf:\"chù mù jīng xīn\"})\n",
      "\n",
      "<class 'py2neo.cypher.core.Record'>  w                                                                                                      \n",
      "---------------------------------------------------------------------------------------------------------\n",
      " (n131:Word {keyword:\"粗心大意\",meaning:\"そそっかしくて注意力が足りない\",pinyin:\"cu1 xin1 da4 yi4\",pinyinf:\"cū xīn dà yì\"})\n",
      "\n",
      "<class 'py2neo.cypher.core.Record'>  w                                                                                                             \n",
      "----------------------------------------------------------------------------------------------------------------\n",
      " (n136:Word {keyword:\"大包大揽\",meaning:\"すべてを一手に引き受ける、丸抱えする\",pinyin:\"da4 bao1 da4 lan3\",pinyinf:\"dà  bāo dà  lǎn\"})\n",
      "\n",
      "<class 'py2neo.cypher.core.Record'>  w                                                                                                      \n",
      "---------------------------------------------------------------------------------------------------------\n",
      " (n137:Word {keyword:\"大祸临头\",meaning:\"大きな災いが降りかかる\",pinyin:\"da4 huo4 lin2 tou2\",pinyinf:\"dà huò lín tóu\"})\n",
      "\n",
      "<class 'py2neo.cypher.core.Record'>  w                                                                                                            \n",
      "---------------------------------------------------------------------------------------------------------------\n",
      " (n138:Word {keyword:\"大街小巷\",meaning:\"大きな通りと小さな路地\",pinyin:\"da4 jie1 xiao3 xiang4\",pinyinf:\"dà jiē xiǎo xiàng\"})\n",
      "\n",
      "<class 'py2neo.cypher.core.Record'>  w                                                                                         \n",
      "--------------------------------------------------------------------------------------------\n",
      " (n139:Word {keyword:\"大可不必\",meaning:\"必要ない\",pinyin:\"da4 ke3 bu2 bi4\",pinyinf:\"dà kě bú bì\"})\n",
      "\n",
      "<class 'py2neo.cypher.core.Record'>  w                                                                                                           \n",
      "--------------------------------------------------------------------------------------------------------------\n",
      " (n177:Word {keyword:\"东张西望\",meaning:\"きょろきょろする\",pinyin:\"dong1 zhang1 xi1 wang4\",pinyinf:\"dōng zhāng xī wàng\"})\n",
      "\n",
      "<class 'py2neo.cypher.core.Record'>  w                                                                                                \n",
      "---------------------------------------------------------------------------------------------------\n",
      " (n195:Word {keyword:\"多姿多彩\",meaning:\"多彩な\",pinyin:\"duo1 zi1 duo1 cai3\",pinyinf:\"duō  zī duō  cǎi\"})\n",
      "\n",
      "<class 'py2neo.cypher.core.Record'>  w                                                                                                              \n",
      "-----------------------------------------------------------------------------------------------------------------\n",
      " (n211:Word {keyword:\"返老还童\",meaning:\"年を取って、かえって若返る\",pinyin:\"fan3 lao3 huan2 tong2\",pinyinf:\"fǎn lǎo huán tóng\"})\n",
      "\n",
      "<class 'py2neo.cypher.core.Record'>  w                                                                                                    \n",
      "-------------------------------------------------------------------------------------------------------\n",
      " (n235:Word {keyword:\"丰富多彩\",meaning:\"多種多様である\",pinyin:\"feng1 fu4 duo1 cai3\",pinyinf:\"fēng fù duō cǎi\"})\n",
      "\n",
      "<class 'py2neo.cypher.core.Record'>  w                                                                                                      \n",
      "---------------------------------------------------------------------------------------------------------\n",
      " (n237:Word {keyword:\"风雨相伴\",meaning:\"風雨を伴う\",pinyin:\"feng1 yu3 xiang1 ban4\",pinyinf:\"fēng yǔ xiāng bàn\"})\n",
      "\n",
      "<class 'py2neo.cypher.core.Record'>  w                                                                                                                \n",
      "-------------------------------------------------------------------------------------------------------------------\n",
      " (n243:Word {keyword:\"扶摇直上\",meaning:\"まっすぐ上昇する、急上昇、早い出世\",pinyin:\"fu2 yao2 zhi2 shang4\",pinyinf:\"fú yáo zhí shàng\"})\n",
      "\n",
      "<class 'py2neo.cypher.core.Record'>  w                                                                                                            \n",
      "---------------------------------------------------------------------------------------------------------------\n",
      " (n263:Word {keyword:\"赶尽杀绝\",meaning:\"徹底的に駆逐し、根絶やしにする\",pinyin:\"gan3 jin4 sha1 jue2\",pinyinf:\"gǎn jìn shā jué\"})\n",
      "\n",
      "<class 'py2neo.cypher.core.Record'>  w                                                                                                             \n",
      "----------------------------------------------------------------------------------------------------------------\n",
      " (n296:Word {keyword:\"顾虑重重\",meaning:\"心配してきりがない様子\",pinyin:\"gu4 lv4 chong2 chong2\",pinyinf:\"gù lǜ chóng chóng \"})\n",
      "\n",
      "<class 'py2neo.cypher.core.Record'>  w                                                                                             \n",
      "------------------------------------------------------------------------------------------------\n",
      " (n337:Word {keyword:\"和稀泥\",meaning:\"いい加減に物事をまとめる様子\",pinyin:\"huo4 xi1 ni2\",pinyinf:\"huò xī ní\"})\n",
      "\n",
      "<class 'py2neo.cypher.core.Record'>  w                                                                                                                \n",
      "-------------------------------------------------------------------------------------------------------------------\n",
      " (n347:Word {keyword:\"互通有无\",meaning:\"互いに有無を通じあう、ないものを融通し合う\",pinyin:\"hu4 tong1 you3 wu2\",pinyinf:\"hù tōng yǒu wú\"})\n",
      "\n",
      "<class 'py2neo.cypher.core.Record'>  w                                                                                                  \n",
      "-----------------------------------------------------------------------------------------------------\n",
      " (n362:Word {keyword:\"挥汗如雨\",meaning:\"滝のような汗をかく\",pinyin:\"hui1 han4 ru2 yu3\",pinyinf:\"huī hàn rú yǔ\"})\n",
      "\n",
      "<class 'py2neo.cypher.core.Record'>  w                                                                                                              \n",
      "-----------------------------------------------------------------------------------------------------------------\n",
      " (n366:Word {keyword:\"回心转意\",meaning:\"考え直す、思い直す、仲直りする\",pinyin:\"hui2 xin1 zhuan3 yi4\",pinyinf:\"huí xīn zhuǎn yì\"})\n",
      "\n",
      "<class 'py2neo.cypher.core.Record'>  w                                                                                                                    \n",
      "-----------------------------------------------------------------------------------------------------------------------\n",
      " (n368:Word {keyword:\"魂牵梦萦\",meaning:\"夢にまで見る、いつも気にかけている\",pinyin:\"hun2 qian1 meng4 ying2\",pinyinf:\"hún qiān mèng yíng\"})\n",
      "\n",
      "<class 'py2neo.cypher.core.Record'>  w                                                                                                    \n",
      "-------------------------------------------------------------------------------------------------------\n",
      " (n394:Word {keyword:\"家长里短\",meaning:\"世間話\",pinyin:\"jia1 chang2 li3 duan3\",pinyinf:\"jiā cháng lǐ duǎn\"})\n",
      "\n",
      "<class 'py2neo.cypher.core.Record'>  w                                                                                                                \n",
      "-------------------------------------------------------------------------------------------------------------------\n",
      " (n395:Word {keyword:\"家喻户晓\",meaning:\"どこの家でも知っている、誰でも承知している\",pinyin:\"jia1 yu4 hu4 xiao3\",pinyinf:\"jiā yù hù xiǎo\"})\n",
      "\n",
      "<class 'py2neo.cypher.core.Record'>  w                                                                                                       \n",
      "----------------------------------------------------------------------------------------------------------\n",
      " (n397:Word {keyword:\"假冒伪劣\",meaning:\"(偽物で)本物を装う\",pinyin:\"jia3 mao4 wei3 lie4\",pinyinf:\"jiǎ mào wěi liè\"})\n",
      "\n",
      "<class 'py2neo.cypher.core.Record'>  w                                                                                                                 \n",
      "--------------------------------------------------------------------------------------------------------------------\n",
      " (n402:Word {keyword:\"见利忘义\",meaning:\"目先の利益に目がくらんで、道義をを忘れる\",pinyin:\"jian4 li4 wang4 yi4\",pinyinf:\"jiàn lì wàng yì\"})\n",
      "\n",
      "<class 'py2neo.cypher.core.Record'>  w                                                                                                                             \n",
      "--------------------------------------------------------------------------------------------------------------------------------\n",
      " (n405:Word {keyword:\"渐行渐远\",meaning:\"徐々に遠くなる (音声は最初の2文字分だけ)\",pinyin:\"jian4 xing2 jian4 yuan3\",pinyinf:\"jiàn  xíng jiàn  yuǎn\"})\n",
      "\n",
      "<class 'py2neo.cypher.core.Record'>  w                                                                                                               \n",
      "------------------------------------------------------------------------------------------------------------------\n",
      " (n413:Word {keyword:\"娇生惯养\",meaning:\"甘やかして育てる\",pinyin:\"jiao1 sheng1 guan4 yang3\",pinyinf:\"jiāo shēng guàn yǎng\"})\n",
      "\n",
      "<class 'py2neo.cypher.core.Record'>  w                                                                                                         \n",
      "------------------------------------------------------------------------------------------------------------\n",
      " (n419:Word {keyword:\"街头巷尾\",meaning:\"街中いたるところ\",pinyin:\"jie1 tou2 xiang4 wei3\",pinyinf:\"jiē tóu xiàng wěi\"})\n",
      "\n",
      "<class 'py2neo.cypher.core.Record'>  w                                                                                                           \n",
      "--------------------------------------------------------------------------------------------------------------\n",
      " (n420:Word {keyword:\"节目主持人\",meaning:\"番組の司会者\",pinyin:\"jie2 mu4 zhu3 chi2 ren2\",pinyinf:\"jié mù zhǔ chí rén\"})\n",
      "\n",
      "<class 'py2neo.cypher.core.Record'>  w                                                                                                \n",
      "---------------------------------------------------------------------------------------------------\n",
      " (n430:Word {keyword:\"筋疲力尽\",meaning:\"疲れて力尽きる\",pinyin:\"jin1 pi2 li4 jin4\",pinyinf:\"jīn pí lì jìn\"})\n",
      "\n",
      "<class 'py2neo.cypher.core.Record'>  w                                                                                                   \n",
      "------------------------------------------------------------------------------------------------------\n",
      " (n447:Word {keyword:\"居高临下\",meaning:\"有利な立場にある\",pinyin:\"ju1 gao1 lin2 xia4\",pinyinf:\"jū gāo lín xià\"})\n",
      "\n",
      "<class 'py2neo.cypher.core.Record'>  w                                                                                               \n",
      "--------------------------------------------------------------------------------------------------\n",
      " (n461:Word {keyword:\"开膛破肚\",meaning:\"腹を割る\",pinyin:\"kai1 tang2 po4 du4\",pinyinf:\"kāi táng pò dù\"})\n",
      "\n",
      "<class 'py2neo.cypher.core.Record'>  w                                                                                                    \n",
      "-------------------------------------------------------------------------------------------------------\n",
      " (n478:Word {keyword:\"客随主便\",meaning:\"客は主人に従う\",pinyin:\"ke4 sui2 zhu3 bian4\",pinyinf:\"kè suí zhǔ biàn\"})\n",
      "\n",
      "<class 'py2neo.cypher.core.Record'>  w                                                                                                      \n",
      "---------------------------------------------------------------------------------------------------------\n",
      " (n509:Word {keyword:\"理所当然\",meaning:\"道理にかなっている\",pinyin:\"li3 suo3 dang1 ran2\",pinyinf:\"lǐ suǒ dāng rán\"})\n",
      "\n",
      "<class 'py2neo.cypher.core.Record'>  w                                                                                                 \n",
      "----------------------------------------------------------------------------------------------------\n",
      " (n511:Word {keyword:\"力所能及\",meaning:\"力の及ぶ限り\",pinyin:\"li4 suo3 neng2 ji2\",pinyinf:\"lì suǒ néng jí\"})\n",
      "\n",
      "<class 'py2neo.cypher.core.Record'>  w                                                                                                          \n",
      "-------------------------------------------------------------------------------------------------------------\n",
      " (n515:Word {keyword:\"立竿见影\",meaning:\"効果がすぐ現れるたとえ\",pinyin:\"li4 gan1 jian4 ying3\",pinyinf:\"lì gān jiàn yǐng\"})\n",
      "\n",
      "<class 'py2neo.cypher.core.Record'>  w                                                                                                \n",
      "---------------------------------------------------------------------------------------------------\n",
      " (n517:Word {keyword:\"利欲熏心\",meaning:\"欲に目がくらむ\",pinyin:\"li4 yu4 xun1 xin1\",pinyinf:\"lì yù xūn xīn\"})\n",
      "\n",
      "<class 'py2neo.cypher.core.Record'>  w                                                                                                          \n",
      "-------------------------------------------------------------------------------------------------------------\n",
      " (n541:Word {keyword:\"马不停蹄\",meaning:\"ひたすら前進する、一刻も休まず進む\",pinyin:\"ma3 bu4 ting2 ti2\",pinyinf:\"mǎ bù tíng tí\"})\n",
      "\n",
      "<class 'py2neo.cypher.core.Record'>  w                                                                                                              \n",
      "-----------------------------------------------------------------------------------------------------------------\n",
      " (n550:Word {keyword:\"没大没小\",meaning:\"長幼の序をわきまえない、無礼な\",pinyin:\"mei2 da4 mei2 xiao3\",pinyinf:\"méi  dà méi  xiǎo\"})\n",
      "\n",
      "<class 'py2neo.cypher.core.Record'>  w                                                                                                                               \n",
      "----------------------------------------------------------------------------------------------------------------------------------\n",
      " (n563:Word {keyword:\"名正言顺\",meaning:\"道理が正しく筋道が通っている、文句なく正当であること\",pinyin:\"ming2 zheng4 yan2 shun4\",pinyinf:\"míng zhèng yán shùn\"})\n",
      "\n",
      "<class 'py2neo.cypher.core.Record'>  w                                                                                                              \n",
      "-----------------------------------------------------------------------------------------------------------------\n",
      " (n565:Word {keyword:\"铭心刻骨\",meaning:\"心に銘記して、骨に刻んで永遠に忘れない\",pinyin:\"ming2 xin1 ke4 gu3\",pinyinf:\"míng xīn kè gǔ\"})\n",
      "\n",
      "<class 'py2neo.cypher.core.Record'>  w                                                                                                          \n",
      "-------------------------------------------------------------------------------------------------------------\n",
      " (n572:Word {keyword:\"莫名其妙\",meaning:\"訳が分からない、奇妙である\",pinyin:\"mo4 ming2 qi2 miao4\",pinyinf:\"mò míng qí miào\"})\n",
      "\n",
      "<class 'py2neo.cypher.core.Record'>  w                                                                                                             \n",
      "----------------------------------------------------------------------------------------------------------------\n",
      " (n582:Word {keyword:\"难能可贵\",meaning:\"得難く貴い、並大抵のことではない\",pinyin:\"nan2 neng2 ke3 gui4\",pinyinf:\"nán néng kě guì\"})\n",
      "\n",
      "<class 'py2neo.cypher.core.Record'>  w                                                                                                                \n",
      "-------------------------------------------------------------------------------------------------------------------\n",
      " (n596:Word {keyword:\"拍案而起\",meaning:\"机を叩いて思わず立ち上がる(怒っている様子を表す)\",pinyin:\"pai1 an4 er2 qi3\",pinyinf:\"pāi àn ér qǐ\"})\n",
      "\n"
     ]
    }
   ],
   "source": [
    "for w in wl:\n",
    "    print(type(w), w)"
   ]
  },
  {
   "cell_type": "markdown",
   "metadata": {},
   "source": [
    "Typeを見るとRecordとなっているので、取り回しは難しくなさそう。"
   ]
  },
  {
   "cell_type": "markdown",
   "metadata": {},
   "source": [
    "引き続いて、STARTS WITHのテスト。これが使えると検索の幅が広がる。Neo4j側で動くモノであれば、基本的に大丈夫なはず。"
   ]
  },
  {
   "cell_type": "code",
   "execution_count": 55,
   "metadata": {
    "collapsed": true
   },
   "outputs": [],
   "source": [
    "sw = graph.cypher.execute(\"MATCH (w:Word) WHERE w.pinyin STARTS WITH ('shi2') return w\")"
   ]
  },
  {
   "cell_type": "code",
   "execution_count": 56,
   "metadata": {
    "collapsed": false
   },
   "outputs": [
    {
     "data": {
      "text/plain": [
       "    | w                                                                                                               \n",
       "----+------------------------------------------------------------------------------------------------------------------\n",
       "  1 | (n737:Word {keyword:\"石窟\",meaning:\"石窟\",pinyin:\"shi2 ku1\",pinyinf:\"shí kū\"})                                      \n",
       "  2 | (n738:Word {keyword:\"实施\",meaning:\"実施する\",pinyin:\"shi2 shi1\",pinyinf:\"shí shī\"})                                  \n",
       "  3 | (n739:Word {keyword:\"实事求是\",meaning:\"事実に即して問題を処理する\",pinyin:\"shi2 shi4 qiu2 shi4\",pinyinf:\"shí shì qiú shì \"})    \n",
       "  4 | (n740:Word {keyword:\"拾金不昧\",meaning:\"金を拾っても着服しない、拾得物は届け出る\",pinyin:\"shi2 jin1 bu2 mei4\",pinyinf:\"shí jīn bú mèi\"})\n",
       "  5 | (n4026:Word {keyword:\"拾\",meaning:\"\",pinyin:\"shi2\",pinyinf:\"shí\"})                                               \n",
       "  6 | (n4027:Word {keyword:\"十\",meaning:\"\",pinyin:\"shi2\",pinyinf:\"shí\"})                                               \n",
       "  7 | (n4028:Word {keyword:\"十分\",meaning:\"\",pinyin:\"shi2 fen1\",pinyinf:\"shí fēn\"})                                     \n",
       "  8 | (n4029:Word {keyword:\"十足\",meaning:\"\",pinyin:\"shi2 zu2\",pinyinf:\"shí zú\"})                                       \n",
       "  9 | (n4030:Word {keyword:\"识别\",meaning:\"\",pinyin:\"shi2 bie2\",pinyinf:\"shí bié\"})                                     \n",
       " 10 | (n4031:Word {keyword:\"时差\",meaning:\"\",pinyin:\"shi2 cha1\",pinyinf:\"shí chā\"})                                     \n",
       " 11 | (n4032:Word {keyword:\"时常\",meaning:\"\",pinyin:\"shi2 chang2\",pinyinf:\"shí cháng\"})                                 \n",
       " 12 | (n4033:Word {keyword:\"时代\",meaning:\"\",pinyin:\"shi2 dai4\",pinyinf:\"shí dài\"})                                     \n",
       " 13 | (n4034:Word {keyword:\"时而\",meaning:\"\",pinyin:\"shi2 er2\",pinyinf:\"shí ér\"})                                       \n",
       " 14 | (n4035:Word {keyword:\"时光\",meaning:\"\",pinyin:\"shi2 guang1\",pinyinf:\"shí guāng\"})                                 \n",
       " 15 | (n4036:Word {keyword:\"时候\",meaning:\"\",pinyin:\"shi2 hou\",pinyinf:\"shí hou\"})                                      \n",
       " 16 | (n4037:Word {keyword:\"时机\",meaning:\"\",pinyin:\"shi2 ji1\",pinyinf:\"shí jī\"})                                       \n",
       " 17 | (n4038:Word {keyword:\"时间\",meaning:\"\",pinyin:\"shi2 jian1\",pinyinf:\"shí jiān\"})                                   \n",
       " 18 | (n4039:Word {keyword:\"时刻\",meaning:\"\",pinyin:\"shi2 ke4\",pinyinf:\"shí kè\"})                                       \n",
       " 19 | (n4040:Word {keyword:\"时髦\",meaning:\"\",pinyin:\"shi2 mao2\",pinyinf:\"shí máo\"})                                     \n",
       " 20 | (n4041:Word {keyword:\"时期\",meaning:\"\",pinyin:\"shi2 qi1\",pinyinf:\"shí qī\"})                                       \n",
       " 21 | (n4042:Word {keyword:\"时尚\",meaning:\"\",pinyin:\"shi2 shang4\",pinyinf:\"shí shàng\"})                                 \n",
       " 22 | (n4043:Word {keyword:\"时事\",meaning:\"\",pinyin:\"shi2 shi4\",pinyinf:\"shí shì\"})                                     \n",
       " 23 | (n4044:Word {keyword:\"时装\",meaning:\"\",pinyin:\"shi2 zhuang1\",pinyinf:\"shí zhuāng\"})                               \n",
       " 24 | (n4045:Word {keyword:\"实话\",meaning:\"\",pinyin:\"shi2 hua4\",pinyinf:\"shí huà\"})                                     \n",
       " 25 | (n4046:Word {keyword:\"实惠\",meaning:\"\",pinyin:\"shi2 hui4\",pinyinf:\"shí huì\"})                                     \n",
       " 26 | (n4047:Word {keyword:\"实际\",meaning:\"\",pinyin:\"shi2 ji4\",pinyinf:\"shí jì\"})                                       \n",
       " 27 | (n4048:Word {keyword:\"实践\",meaning:\"\",pinyin:\"shi2 jian4\",pinyinf:\"shí jiàn\"})                                   \n",
       " 28 | (n4049:Word {keyword:\"实力\",meaning:\"\",pinyin:\"shi2 li4\",pinyinf:\"shí lì\"})                                       \n",
       " 29 | (n4050:Word {keyword:\"实习\",meaning:\"\",pinyin:\"shi2 xi2\",pinyinf:\"shí xí\"})                                       \n",
       " 30 | (n4051:Word {keyword:\"实现\",meaning:\"\",pinyin:\"shi2 xian4\",pinyinf:\"shí xiàn\"})                                   \n",
       " 31 | (n4052:Word {keyword:\"实行\",meaning:\"\",pinyin:\"shi2 xing2\",pinyinf:\"shí xíng\"})                                   \n",
       " 32 | (n4053:Word {keyword:\"实验\",meaning:\"\",pinyin:\"shi2 yan4\",pinyinf:\"shí yàn\"})                                     \n",
       " 33 | (n4054:Word {keyword:\"实用\",meaning:\"\",pinyin:\"shi2 yong4\",pinyinf:\"shí yòng\"})                                   \n",
       " 34 | (n4055:Word {keyword:\"实在\",meaning:\"\",pinyin:\"shi2 zai4\",pinyinf:\"shí zài\"})                                     \n",
       " 35 | (n4056:Word {keyword:\"实质\",meaning:\"\",pinyin:\"shi2 zhi4\",pinyinf:\"shí zhì\"})                                     \n",
       " 36 | (n4057:Word {keyword:\"食品\",meaning:\"\",pinyin:\"shi2 pin3\",pinyinf:\"shí pǐn\"})                                     \n",
       " 37 | (n4058:Word {keyword:\"食物\",meaning:\"\",pinyin:\"shi2 wu4\",pinyinf:\"shí wù\"})                                       \n",
       " 38 | (n4059:Word {keyword:\"石头\",meaning:\"\",pinyin:\"shi2 tou2\",pinyinf:\"shí tóu\"})                                     \n",
       " 39 | (n4060:Word {keyword:\"石油\",meaning:\"\",pinyin:\"shi2 you2\",pinyinf:\"shí yóu\"})                                     \n",
       " 40 | (n5697:Word {keyword:\"食堂\",meaning:\"\",pinyin:\"shi2 tang2\",pinyinf:\"shítáng\"})                                    "
      ]
     },
     "execution_count": 56,
     "metadata": {},
     "output_type": "execute_result"
    }
   ],
   "source": [
    "sw"
   ]
  },
  {
   "cell_type": "markdown",
   "metadata": {},
   "source": [
    "たとえば2文字の単語で、声調が1声+4声というような組み合わせが欲しい時は正規表現が必要。汎用性を考えると、上のパターンも含めて正規表現で良いかも。"
   ]
  },
  {
   "cell_type": "code",
   "execution_count": 62,
   "metadata": {
    "collapsed": false
   },
   "outputs": [
    {
     "data": {
      "text/plain": [
       "470"
      ]
     },
     "execution_count": 62,
     "metadata": {},
     "output_type": "execute_result"
    }
   ],
   "source": [
    "regw = graph.cypher.execute(\"MATCH (w:Word) WHERE w.pinyin =~ '[a-z]*1 [a-z]*4' RETURN w\")\n",
    "regw.to_subgraph().order"
   ]
  },
  {
   "cell_type": "markdown",
   "metadata": {},
   "source": [
    "単文の検索も試してみる。「不了」か「得了」を含む単文を検索してみる。"
   ]
  },
  {
   "cell_type": "code",
   "execution_count": 6,
   "metadata": {
    "collapsed": false
   },
   "outputs": [
    {
     "name": "stdout",
     "output_type": "stream",
     "text": [
      "32 sentence(s) found in database\n"
     ]
    }
   ],
   "source": [
    "regs = graph.cypher.execute(\"MATCH (s:Sentence) WHERE s.sentence =~ '.*(不了|得了).*' RETURN s\")\n",
    "print(\"{} sentence(s) found in database\".format(regs.to_subgraph().order))"
   ]
  },
  {
   "cell_type": "markdown",
   "metadata": {},
   "source": [
    "エントリの属性の変更を行う。この例では意味(meaning)を変更している。"
   ]
  },
  {
   "cell_type": "code",
   "execution_count": 9,
   "metadata": {
    "collapsed": true
   },
   "outputs": [],
   "source": [
    "w = list(graph.find(\"Word\", \"keyword\", \"挨\"))"
   ]
  },
  {
   "cell_type": "code",
   "execution_count": 10,
   "metadata": {
    "collapsed": false
   },
   "outputs": [
    {
     "name": "stdout",
     "output_type": "stream",
     "text": [
      "[<Node graph='http://localhost:7474/db/data/' ref='node/1110' labels={'Word'} properties={'keyword': '挨', 'pinyin': 'ai1', 'meaning': '', 'pinyinf': 'āi'}>]\n"
     ]
    }
   ],
   "source": [
    "print(w)"
   ]
  },
  {
   "cell_type": "code",
   "execution_count": 12,
   "metadata": {
    "collapsed": false
   },
   "outputs": [],
   "source": [
    "w[0]['meaning'] = '近寄る，寄り添う，くっつく'\n",
    "graph.push(w[0])"
   ]
  },
  {
   "cell_type": "code",
   "execution_count": 13,
   "metadata": {
    "collapsed": false
   },
   "outputs": [
    {
     "name": "stdout",
     "output_type": "stream",
     "text": [
      "(n1110:Word {keyword:\"挨\",meaning:\"近寄る，寄り添う，くっつく\",pinyin:\"ai1\",pinyinf:\"āi\"})\n"
     ]
    }
   ],
   "source": [
    "w = list(graph.find(\"Word\", \"keyword\", \"挨\"))\n",
    "print(w[0])"
   ]
  },
  {
   "cell_type": "code",
   "execution_count": null,
   "metadata": {
    "collapsed": true
   },
   "outputs": [],
   "source": []
  }
 ],
 "metadata": {
  "kernelspec": {
   "display_name": "Python 3",
   "language": "python",
   "name": "python3"
  },
  "language_info": {
   "codemirror_mode": {
    "name": "ipython",
    "version": 3
   },
   "file_extension": ".py",
   "mimetype": "text/x-python",
   "name": "python",
   "nbconvert_exporter": "python",
   "pygments_lexer": "ipython3",
   "version": "3.4.4"
  }
 },
 "nbformat": 4,
 "nbformat_minor": 0
}

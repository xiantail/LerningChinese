{
 "cells": [
  {
   "cell_type": "markdown",
   "metadata": {},
   "source": [
    "# 中国語学習データベースをNeo4j(グラフデータベース)で構築してみる"
   ]
  },
  {
   "cell_type": "markdown",
   "metadata": {},
   "source": [
    "以前、中国語学習を熱心にやっていたときに、単語や単文のデータベースを作っていたが、あまり長続きしなかった。理由は、正規化の部分での時間的コストが掛かること。項目を増やしたり、テーブルを追加したりなどなどの作業に追われて、あまり効率的ではなかったのが原因ではないかと考えている。そこで、グラフデータベースを使って面白いことが出来ないかを試してみることにした。\n",
    "\n",
    "やりたいことを列挙すると、こんな感じ。\n",
    "- 短文を登録すると、こんな構文を使っているねとか、この単語を使っているねというのが、ある程度自動でリンクされる。\n",
    "- 特定に構文とか言い回しとかに沿った単文を例文として一覧で列挙する。\n",
    "- 読み方などが分からない単語を登録する。\n",
    "などなど。"
   ]
  },
  {
   "cell_type": "markdown",
   "metadata": {},
   "source": [
    "## 構造を考えてみる\n",
    "\n",
    "Neo4jには、各ノードをLabelで性格付けできるので、こんな感じのモノを作ってみるイメージ。\n",
    "- 単語(Word)\n",
    "- カテゴリ(Category)品詞とか\n",
    "- 構文(Structure) 把構文みたいな\n",
    "- 単文(Sentence)"
   ]
  },
  {
   "cell_type": "markdown",
   "metadata": {},
   "source": [
    "## テキスト/CSVファイルからの取り込み"
   ]
  },
  {
   "cell_type": "markdown",
   "metadata": {},
   "source": [
    "まずは単語の入ったcsvファイルを読み込む。項目数が多いので、DictReaderで辞書として取り込み、それをリスト化する"
   ]
  },
  {
   "cell_type": "code",
   "execution_count": 2,
   "metadata": {
    "collapsed": false
   },
   "outputs": [
    {
     "name": "stdout",
     "output_type": "stream",
     "text": [
      "5809 words stored in word_list\n"
     ]
    }
   ],
   "source": [
    "import csv\n",
    "word_list = []\n",
    "with open('chinesewords_20160219.csv', encoding='utf-8') as csvfile:\n",
    "    reader = csv.DictReader(csvfile)\n",
    "    for row in reader:\n",
    "        word_list.append(row)\n",
    "print('{} words stored in word_list'.format(len(word_list)))"
   ]
  },
  {
   "cell_type": "markdown",
   "metadata": {},
   "source": [
    "同じく単文の入ったtxtファイルを読み込む。こちらは項目数が今のところ1つだけなので、csvとして読む必要はない。ただし、行末の改行(\\n)を消してやる必要あり。"
   ]
  },
  {
   "cell_type": "code",
   "execution_count": 3,
   "metadata": {
    "collapsed": false
   },
   "outputs": [
    {
     "name": "stdout",
     "output_type": "stream",
     "text": [
      "569 sentences stored in sentenc_list\n"
     ]
    }
   ],
   "source": [
    "sentence_list = []\n",
    "with open('chinese_sentences20160218.txt', encoding='utf-8') as textfile:\n",
    "    sentence_list = [row.rstrip() for row in textfile]\n",
    "print('{} sentences stored in sentenc_list'.format(len(sentence_list)))"
   ]
  },
  {
   "cell_type": "markdown",
   "metadata": {},
   "source": [
    "改行が消えているかの確認。"
   ]
  },
  {
   "cell_type": "code",
   "execution_count": 4,
   "metadata": {
    "collapsed": false
   },
   "outputs": [
    {
     "data": {
      "text/plain": [
       "'那么大的鱼，根本钓不到。'"
      ]
     },
     "execution_count": 4,
     "metadata": {},
     "output_type": "execute_result"
    }
   ],
   "source": [
    "sentence_list[-1]"
   ]
  },
  {
   "cell_type": "markdown",
   "metadata": {},
   "source": [
    "## Neo4jとの接続"
   ]
  },
  {
   "cell_type": "markdown",
   "metadata": {},
   "source": [
    "Neo4jとつないでみよう。あらかじめpy2neoをインストールしておく。\n",
    "```\n",
    "$pip install py2neo\n",
    "```"
   ]
  },
  {
   "cell_type": "code",
   "execution_count": 9,
   "metadata": {
    "collapsed": true
   },
   "outputs": [],
   "source": [
    "from py2neo import Graph, authenticate\n",
    "from py2neo import Node, Relationship\n",
    "authenticate('localhost:7474', 'neo4j', 'admin')\n",
    "graph = Graph()    #http://localhost:7474"
   ]
  },
  {
   "cell_type": "markdown",
   "metadata": {},
   "source": [
    "(リカバリ用)すべてのノードと関係を削除する場合は、これを使う。"
   ]
  },
  {
   "cell_type": "code",
   "execution_count": 25,
   "metadata": {
    "collapsed": true
   },
   "outputs": [],
   "source": [
    "graph.delete_all()"
   ]
  },
  {
   "cell_type": "markdown",
   "metadata": {},
   "source": [
    "CategoryとSentenceについては、単一の属性でユニークになるのでuniqueness_constraintを作っておく。"
   ]
  },
  {
   "cell_type": "code",
   "execution_count": 10,
   "metadata": {
    "collapsed": false
   },
   "outputs": [],
   "source": [
    "graph.schema.create_uniqueness_constraint(\"Category\", \"category\")\n",
    "graph.schema.create_uniqueness_constraint(\"Sentence\", \"sentence\")"
   ]
  },
  {
   "cell_type": "markdown",
   "metadata": {},
   "source": [
    "Wordについては、多音字を想定してkeywordとpinyinの組み合わせでユニークとする。複数項目の指定は出来ないので、エントリ追加時のロジックで対応する。"
   ]
  },
  {
   "cell_type": "markdown",
   "metadata": {},
   "source": [
    "まずは短文登録を行う。重複ケースを考えてmerge_oneを使う。uniqueness_constraintとセットで使うとドキュメントに書いてある。"
   ]
  },
  {
   "cell_type": "code",
   "execution_count": 11,
   "metadata": {
    "collapsed": false
   },
   "outputs": [],
   "source": [
    "for sentence in sentence_list:\n",
    "    graph.merge_one(\"Sentence\", \"sentence\", sentence)"
   ]
  },
  {
   "cell_type": "markdown",
   "metadata": {},
   "source": [
    "続いて単語の登録。ロジックを工夫しながらやる必要あり。"
   ]
  },
  {
   "cell_type": "code",
   "execution_count": 12,
   "metadata": {
    "collapsed": false
   },
   "outputs": [
    {
     "name": "stdout",
     "output_type": "stream",
     "text": [
      "all count:5809, created words:5806\n"
     ]
    }
   ],
   "source": [
    "counter_a = 0\n",
    "counter_c = 0\n",
    "for word in word_list:\n",
    "    counter_a += 1\n",
    "    ws = list(graph.find(\"Word\", \"keyword\", word['word']))\n",
    "    found = False\n",
    "    for w in ws:\n",
    "        if w[\"pinyin\"] == word['pinyin']:\n",
    "            found = True\n",
    "            break\n",
    "    if found == True:\n",
    "        new_word = w\n",
    "    else:\n",
    "        counter_c += 1\n",
    "        new_word = Node(\"Word\", keyword=word['word'], pinyin=word['pinyin'], pinyinf=word['pinyinf'], meaning=word['meaning'])\n",
    "        graph.create(new_word)\n",
    "    found = False\n",
    "    if word.get('category'):\n",
    "        cs = list(graph.find(\"Category\", \"category\", word['category']))\n",
    "        if len(cs) == 0:\n",
    "            new_category = Node(\"Category\", category=word['category'])\n",
    "            graph.create(new_category)\n",
    "        else:\n",
    "            new_category = cs[0]\n",
    "        word_is_categorized_as_category = Relationship(new_word, 'is_categorized_as', new_category)\n",
    "        graph.create(word_is_categorized_as_category)\n",
    "    \n",
    "print(\"all count:{0}, created words:{1}\".format(counter_a, counter_c))    "
   ]
  },
  {
   "cell_type": "markdown",
   "metadata": {
    "collapsed": true
   },
   "source": [
    "少し時間が掛かりすぎか？"
   ]
  },
  {
   "cell_type": "markdown",
   "metadata": {},
   "source": [
    "## データベース内のデータのハンドリング(検索)"
   ]
  },
  {
   "cell_type": "markdown",
   "metadata": {},
   "source": [
    "既存のデータの検索について、方法を考える。まずは、cypherを直接実行するexecuteを使うパターン。"
   ]
  },
  {
   "cell_type": "code",
   "execution_count": 14,
   "metadata": {
    "collapsed": false
   },
   "outputs": [],
   "source": [
    "w = graph.cypher.execute(\"MATCH (w:Word) WHERE w.keyword='熬夜' RETURN w\") "
   ]
  },
  {
   "cell_type": "code",
   "execution_count": 15,
   "metadata": {
    "collapsed": false
   },
   "outputs": [
    {
     "name": "stdout",
     "output_type": "stream",
     "text": [
      "   | w                                                                         \n",
      "---+----------------------------------------------------------------------------\n",
      " 1 | (n571:Word {keyword:\"熬夜\",meaning:\"徹夜する\",pinyin:\"ao2 ye4\",pinyinf:\"áo yè\"})\n",
      "\n"
     ]
    }
   ],
   "source": [
    "print(w)"
   ]
  },
  {
   "cell_type": "code",
   "execution_count": 16,
   "metadata": {
    "collapsed": false
   },
   "outputs": [
    {
     "data": {
      "text/plain": [
       "py2neo.cypher.core.RecordList"
      ]
     },
     "execution_count": 16,
     "metadata": {},
     "output_type": "execute_result"
    }
   ],
   "source": [
    "type(w)"
   ]
  },
  {
   "cell_type": "code",
   "execution_count": 17,
   "metadata": {
    "collapsed": false
   },
   "outputs": [
    {
     "data": {
      "text/plain": [
       " w                                                                         \n",
       "----------------------------------------------------------------------------\n",
       " (n571:Word {keyword:\"熬夜\",meaning:\"徹夜する\",pinyin:\"ao2 ye4\",pinyinf:\"áo yè\"})"
      ]
     },
     "execution_count": 17,
     "metadata": {},
     "output_type": "execute_result"
    }
   ],
   "source": [
    "w[0]"
   ]
  },
  {
   "cell_type": "code",
   "execution_count": 21,
   "metadata": {
    "collapsed": false
   },
   "outputs": [
    {
     "data": {
      "text/plain": [
       "py2neo.cypher.core.Record"
      ]
     },
     "execution_count": 21,
     "metadata": {},
     "output_type": "execute_result"
    }
   ],
   "source": [
    "type(w[0])"
   ]
  },
  {
   "cell_type": "code",
   "execution_count": null,
   "metadata": {
    "collapsed": true
   },
   "outputs": [],
   "source": [
    "速さは問題ないが、取り回しがよく分からない。続いては、findを使う方法。"
   ]
  },
  {
   "cell_type": "code",
   "execution_count": 22,
   "metadata": {
    "collapsed": true
   },
   "outputs": [],
   "source": [
    "w = list(graph.find(\"Word\", \"keyword\", \"熬夜\"))"
   ]
  },
  {
   "cell_type": "code",
   "execution_count": 23,
   "metadata": {
    "collapsed": false
   },
   "outputs": [
    {
     "data": {
      "text/plain": [
       "[<Node graph='http://localhost:7474/db/data/' ref='node/571' labels={'Word'} properties={'pinyin': 'ao2 ye4', 'pinyinf': 'áo yè', 'meaning': '徹夜する', 'keyword': '熬夜'}>]"
      ]
     },
     "execution_count": 23,
     "metadata": {},
     "output_type": "execute_result"
    }
   ],
   "source": [
    "w"
   ]
  },
  {
   "cell_type": "code",
   "execution_count": 24,
   "metadata": {
    "collapsed": false
   },
   "outputs": [
    {
     "data": {
      "text/plain": [
       "'熬夜'"
      ]
     },
     "execution_count": 24,
     "metadata": {},
     "output_type": "execute_result"
    }
   ],
   "source": [
    "w[0][\"keyword\"]"
   ]
  },
  {
   "cell_type": "markdown",
   "metadata": {},
   "source": [
    "これの方が取り回しは簡単な気がする。とりあえず汎用的に使えるように関数を書いてみる。"
   ]
  },
  {
   "cell_type": "code",
   "execution_count": 29,
   "metadata": {
    "collapsed": true
   },
   "outputs": [],
   "source": [
    "def search_word(keyword):\n",
    "    ws = list(graph.find(\"Word\", \"keyword\", keyword))\n",
    "    if len(ws) == 0:\n",
    "        print(\"Keyword {0} not found in database\".format(keyword))\n",
    "        return None\n",
    "    else:\n",
    "        print(\"Found {0} entries for keyword {1} in database\".format(len(ws), keyword))\n",
    "        return ws    "
   ]
  },
  {
   "cell_type": "code",
   "execution_count": 30,
   "metadata": {
    "collapsed": false
   },
   "outputs": [
    {
     "name": "stdout",
     "output_type": "stream",
     "text": [
      "Found 1 entries for keyword 菩萨 in database\n",
      "[<Node graph='http://localhost:7474/db/data/' ref='node/1199' labels={'Word'} properties={'pinyin': 'pu2 sa4', 'pinyinf': 'pú sà', 'meaning': '菩薩', 'keyword': '菩萨'}>]\n"
     ]
    }
   ],
   "source": [
    "word = search_word(\"菩萨\")\n",
    "print(word)"
   ]
  },
  {
   "cell_type": "markdown",
   "metadata": {},
   "source": [
    "続いてピンイン検索も。pinyinfでの検索も考えた方が良いかもしれないが、仕組みは同じで簡単に作れるので、とりあえずpinyinだけで作る。"
   ]
  },
  {
   "cell_type": "code",
   "execution_count": 32,
   "metadata": {
    "collapsed": false
   },
   "outputs": [],
   "source": [
    "def search_pinyin(pinyin):\n",
    "    ws = list(graph.find(\"Word\", \"pinyin\", pinyin))\n",
    "    if len(ws) == 0:\n",
    "        print(\"No keywords found to pronounce like {0}\".format(pinyin))\n",
    "        return None\n",
    "    else:\n",
    "        print(\"Found {0} entries to pronounce like {1}\".format(len(ws), pinyin))\n",
    "        return ws"
   ]
  },
  {
   "cell_type": "code",
   "execution_count": 41,
   "metadata": {
    "collapsed": false
   },
   "outputs": [
    {
     "name": "stdout",
     "output_type": "stream",
     "text": [
      "Found 5 entries to pronounce like cheng2\n",
      "[<Node graph='http://localhost:7474/db/data/' ref='node/2101' labels={'Word'} properties={'pinyin': 'cheng2', 'pinyinf': 'chéng', 'meaning': '盛る', 'keyword': '盛'}>, <Node graph='http://localhost:7474/db/data/' ref='node/2102' labels={'Word'} properties={'pinyin': 'cheng2', 'pinyinf': 'chéng', 'meaning': '', 'keyword': '橙'}>, <Node graph='http://localhost:7474/db/data/' ref='node/2103' labels={'Word'} properties={'pinyin': 'cheng2', 'pinyinf': 'chéng', 'meaning': '', 'keyword': '乘'}>, <Node graph='http://localhost:7474/db/data/' ref='node/6200' labels={'Word'} properties={'pinyin': 'cheng2', 'pinyinf': 'chéng', 'meaning': '', 'keyword': '城'}>, <Node graph='http://localhost:7474/db/data/' ref='node/6305' labels={'Word'} properties={'pinyin': 'cheng2', 'pinyinf': 'chéng', 'meaning': '', 'keyword': '成'}>]\n"
     ]
    }
   ],
   "source": [
    "words = search_pinyin('cheng2')\n",
    "print(words)"
   ]
  },
  {
   "cell_type": "markdown",
   "metadata": {},
   "source": [
    "ひとまず大丈夫そう。"
   ]
  },
  {
   "cell_type": "code",
   "execution_count": 42,
   "metadata": {
    "collapsed": false
   },
   "outputs": [
    {
     "data": {
      "text/plain": [
       "5809"
      ]
     },
     "execution_count": 42,
     "metadata": {},
     "output_type": "execute_result"
    }
   ],
   "source": [
    "len(word_list)"
   ]
  },
  {
   "cell_type": "code",
   "execution_count": 43,
   "metadata": {
    "collapsed": false
   },
   "outputs": [
    {
     "data": {
      "text/plain": [
       "569"
      ]
     },
     "execution_count": 43,
     "metadata": {},
     "output_type": "execute_result"
    }
   ],
   "source": [
    "len(sentence_list)"
   ]
  },
  {
   "cell_type": "code",
   "execution_count": null,
   "metadata": {
    "collapsed": true
   },
   "outputs": [],
   "source": []
  }
 ],
 "metadata": {
  "kernelspec": {
   "display_name": "Python 3",
   "language": "python",
   "name": "python3"
  },
  "language_info": {
   "codemirror_mode": {
    "name": "ipython",
    "version": 3
   },
   "file_extension": ".py",
   "mimetype": "text/x-python",
   "name": "python",
   "nbconvert_exporter": "python",
   "pygments_lexer": "ipython3",
   "version": "3.4.3"
  }
 },
 "nbformat": 4,
 "nbformat_minor": 0
}
